{
 "cells": [
  {
   "cell_type": "markdown",
   "metadata": {},
   "source": [
    "# `Fields of Plenty: Examining Opportunities and Challenges in African Food Production`"
   ]
  },
  {
   "cell_type": "markdown",
   "metadata": {},
   "source": [
    "![Alt Text](Production.jpg)"
   ]
  },
  {
   "cell_type": "markdown",
   "metadata": {},
   "source": [
    "#  `Deliverables`\n",
    "\n",
    "Your report should contain visualisation and narratives. To aid your report, you need to consider the following requirements in addition to your own considerations:\n",
    "\n",
    "1. Trends in food production and consumption over the years.\n",
    "2. Average and median food production, the outliers, Quartile and interquartile ranges. (preferably a Boxplot) .\n",
    "3. A comparison between average food consumption and production for each year.<br>"
   ]
  },
  {
   "cell_type": "code",
   "execution_count": 11,
   "metadata": {},
   "outputs": [],
   "source": [
    "## Importing the libraries\n",
    "\n",
    "import pandas as pd\n",
    "import numpy as np\n",
    "import matplotlib.pyplot as plt\n",
    "import seaborn as sns\n",
    "import plotly.express as px\n",
    "import plotly.graph_objects as go\n",
    "from IPython.display import display\n",
    "import scipy.stats"
   ]
  },
  {
   "cell_type": "markdown",
   "metadata": {},
   "source": [
    "# Food Production Dataset"
   ]
  },
  {
   "cell_type": "code",
   "execution_count": 3,
   "metadata": {},
   "outputs": [
    {
     "data": {
      "text/html": [
       "<div>\n",
       "<style scoped>\n",
       "    .dataframe tbody tr th:only-of-type {\n",
       "        vertical-align: middle;\n",
       "    }\n",
       "\n",
       "    .dataframe tbody tr th {\n",
       "        vertical-align: top;\n",
       "    }\n",
       "\n",
       "    .dataframe thead th {\n",
       "        text-align: right;\n",
       "    }\n",
       "</style>\n",
       "<table border=\"1\" class=\"dataframe\">\n",
       "  <thead>\n",
       "    <tr style=\"text-align: right;\">\n",
       "      <th></th>\n",
       "      <th>Country</th>\n",
       "      <th>Item</th>\n",
       "      <th>Year</th>\n",
       "      <th>Value</th>\n",
       "    </tr>\n",
       "  </thead>\n",
       "  <tbody>\n",
       "    <tr>\n",
       "      <th>0</th>\n",
       "      <td>Algeria</td>\n",
       "      <td>Wheat and products</td>\n",
       "      <td>2004</td>\n",
       "      <td>2731</td>\n",
       "    </tr>\n",
       "    <tr>\n",
       "      <th>1</th>\n",
       "      <td>Algeria</td>\n",
       "      <td>Wheat and products</td>\n",
       "      <td>2005</td>\n",
       "      <td>2415</td>\n",
       "    </tr>\n",
       "    <tr>\n",
       "      <th>2</th>\n",
       "      <td>Algeria</td>\n",
       "      <td>Wheat and products</td>\n",
       "      <td>2006</td>\n",
       "      <td>2688</td>\n",
       "    </tr>\n",
       "    <tr>\n",
       "      <th>3</th>\n",
       "      <td>Algeria</td>\n",
       "      <td>Wheat and products</td>\n",
       "      <td>2007</td>\n",
       "      <td>2319</td>\n",
       "    </tr>\n",
       "    <tr>\n",
       "      <th>4</th>\n",
       "      <td>Algeria</td>\n",
       "      <td>Wheat and products</td>\n",
       "      <td>2008</td>\n",
       "      <td>1111</td>\n",
       "    </tr>\n",
       "  </tbody>\n",
       "</table>\n",
       "</div>"
      ],
      "text/plain": [
       "   Country                Item  Year  Value\n",
       "0  Algeria  Wheat and products  2004   2731\n",
       "1  Algeria  Wheat and products  2005   2415\n",
       "2  Algeria  Wheat and products  2006   2688\n",
       "3  Algeria  Wheat and products  2007   2319\n",
       "4  Algeria  Wheat and products  2008   1111"
      ]
     },
     "execution_count": 3,
     "metadata": {},
     "output_type": "execute_result"
    }
   ],
   "source": [
    "## Loading the Food Production Dataset\n",
    "\n",
    "food_production = pd.read_csv(\"Africa Food Production (2004 - 2013).csv\")\n",
    "food_production.head()"
   ]
  },
  {
   "cell_type": "code",
   "execution_count": 4,
   "metadata": {},
   "outputs": [
    {
     "name": "stdout",
     "output_type": "stream",
     "text": [
      "<class 'pandas.core.frame.DataFrame'>\n",
      "RangeIndex: 23110 entries, 0 to 23109\n",
      "Data columns (total 4 columns):\n",
      " #   Column   Non-Null Count  Dtype \n",
      "---  ------   --------------  ----- \n",
      " 0   Country  23110 non-null  object\n",
      " 1   Item     23110 non-null  object\n",
      " 2   Year     23110 non-null  int64 \n",
      " 3   Value    23110 non-null  int64 \n",
      "dtypes: int64(2), object(2)\n",
      "memory usage: 722.3+ KB\n"
     ]
    }
   ],
   "source": [
    "food_production.info()"
   ]
  },
  {
   "cell_type": "code",
   "execution_count": 21,
   "metadata": {},
   "outputs": [],
   "source": [
    "## Changing the Year column into datetime format since its an Interger\n",
    "food_production['Year'] = pd.to_datetime(food_production['Year'], format='%Y-%m-%d')\n"
   ]
  },
  {
   "cell_type": "code",
   "execution_count": 22,
   "metadata": {},
   "outputs": [
    {
     "name": "stdout",
     "output_type": "stream",
     "text": [
      "<class 'pandas.core.frame.DataFrame'>\n",
      "RangeIndex: 23110 entries, 0 to 23109\n",
      "Data columns (total 4 columns):\n",
      " #   Column   Non-Null Count  Dtype         \n",
      "---  ------   --------------  -----         \n",
      " 0   Country  23110 non-null  object        \n",
      " 1   Item     23110 non-null  object        \n",
      " 2   Year     23110 non-null  datetime64[ns]\n",
      " 3   Value    23110 non-null  int64         \n",
      "dtypes: datetime64[ns](1), int64(1), object(2)\n",
      "memory usage: 722.3+ KB\n"
     ]
    }
   ],
   "source": [
    "## Confirming if the Year column is in the corect format\n",
    "\n",
    "food_production.info()"
   ]
  },
  {
   "cell_type": "code",
   "execution_count": 23,
   "metadata": {},
   "outputs": [
    {
     "data": {
      "text/html": [
       "<div>\n",
       "<style scoped>\n",
       "    .dataframe tbody tr th:only-of-type {\n",
       "        vertical-align: middle;\n",
       "    }\n",
       "\n",
       "    .dataframe tbody tr th {\n",
       "        vertical-align: top;\n",
       "    }\n",
       "\n",
       "    .dataframe thead th {\n",
       "        text-align: right;\n",
       "    }\n",
       "</style>\n",
       "<table border=\"1\" class=\"dataframe\">\n",
       "  <thead>\n",
       "    <tr style=\"text-align: right;\">\n",
       "      <th></th>\n",
       "      <th>Country</th>\n",
       "      <th>Item</th>\n",
       "      <th>Year</th>\n",
       "      <th>Value</th>\n",
       "    </tr>\n",
       "  </thead>\n",
       "  <tbody>\n",
       "    <tr>\n",
       "      <th>0</th>\n",
       "      <td>Algeria</td>\n",
       "      <td>Wheat and products</td>\n",
       "      <td>2004-01-01</td>\n",
       "      <td>2731</td>\n",
       "    </tr>\n",
       "    <tr>\n",
       "      <th>1</th>\n",
       "      <td>Algeria</td>\n",
       "      <td>Wheat and products</td>\n",
       "      <td>2005-01-01</td>\n",
       "      <td>2415</td>\n",
       "    </tr>\n",
       "    <tr>\n",
       "      <th>2</th>\n",
       "      <td>Algeria</td>\n",
       "      <td>Wheat and products</td>\n",
       "      <td>2006-01-01</td>\n",
       "      <td>2688</td>\n",
       "    </tr>\n",
       "    <tr>\n",
       "      <th>3</th>\n",
       "      <td>Algeria</td>\n",
       "      <td>Wheat and products</td>\n",
       "      <td>2007-01-01</td>\n",
       "      <td>2319</td>\n",
       "    </tr>\n",
       "    <tr>\n",
       "      <th>4</th>\n",
       "      <td>Algeria</td>\n",
       "      <td>Wheat and products</td>\n",
       "      <td>2008-01-01</td>\n",
       "      <td>1111</td>\n",
       "    </tr>\n",
       "  </tbody>\n",
       "</table>\n",
       "</div>"
      ],
      "text/plain": [
       "   Country                Item       Year  Value\n",
       "0  Algeria  Wheat and products 2004-01-01   2731\n",
       "1  Algeria  Wheat and products 2005-01-01   2415\n",
       "2  Algeria  Wheat and products 2006-01-01   2688\n",
       "3  Algeria  Wheat and products 2007-01-01   2319\n",
       "4  Algeria  Wheat and products 2008-01-01   1111"
      ]
     },
     "execution_count": 23,
     "metadata": {},
     "output_type": "execute_result"
    }
   ],
   "source": [
    "food_production.head()"
   ]
  },
  {
   "cell_type": "code",
   "execution_count": 6,
   "metadata": {},
   "outputs": [
    {
     "data": {
      "text/plain": [
       "(23110, 4)"
      ]
     },
     "execution_count": 6,
     "metadata": {},
     "output_type": "execute_result"
    }
   ],
   "source": [
    "food_production.shape"
   ]
  },
  {
   "cell_type": "code",
   "execution_count": 7,
   "metadata": {},
   "outputs": [
    {
     "data": {
      "text/html": [
       "<div>\n",
       "<style scoped>\n",
       "    .dataframe tbody tr th:only-of-type {\n",
       "        vertical-align: middle;\n",
       "    }\n",
       "\n",
       "    .dataframe tbody tr th {\n",
       "        vertical-align: top;\n",
       "    }\n",
       "\n",
       "    .dataframe thead th {\n",
       "        text-align: right;\n",
       "    }\n",
       "</style>\n",
       "<table border=\"1\" class=\"dataframe\">\n",
       "  <thead>\n",
       "    <tr style=\"text-align: right;\">\n",
       "      <th></th>\n",
       "      <th>Year</th>\n",
       "      <th>Value</th>\n",
       "    </tr>\n",
       "  </thead>\n",
       "  <tbody>\n",
       "    <tr>\n",
       "      <th>count</th>\n",
       "      <td>23110.000000</td>\n",
       "      <td>23110.000000</td>\n",
       "    </tr>\n",
       "    <tr>\n",
       "      <th>mean</th>\n",
       "      <td>2008.498269</td>\n",
       "      <td>327.785201</td>\n",
       "    </tr>\n",
       "    <tr>\n",
       "      <th>std</th>\n",
       "      <td>2.871740</td>\n",
       "      <td>1607.940343</td>\n",
       "    </tr>\n",
       "    <tr>\n",
       "      <th>min</th>\n",
       "      <td>2004.000000</td>\n",
       "      <td>0.000000</td>\n",
       "    </tr>\n",
       "    <tr>\n",
       "      <th>25%</th>\n",
       "      <td>2006.000000</td>\n",
       "      <td>3.000000</td>\n",
       "    </tr>\n",
       "    <tr>\n",
       "      <th>50%</th>\n",
       "      <td>2008.000000</td>\n",
       "      <td>18.000000</td>\n",
       "    </tr>\n",
       "    <tr>\n",
       "      <th>75%</th>\n",
       "      <td>2011.000000</td>\n",
       "      <td>108.000000</td>\n",
       "    </tr>\n",
       "    <tr>\n",
       "      <th>max</th>\n",
       "      <td>2013.000000</td>\n",
       "      <td>54000.000000</td>\n",
       "    </tr>\n",
       "  </tbody>\n",
       "</table>\n",
       "</div>"
      ],
      "text/plain": [
       "               Year         Value\n",
       "count  23110.000000  23110.000000\n",
       "mean    2008.498269    327.785201\n",
       "std        2.871740   1607.940343\n",
       "min     2004.000000      0.000000\n",
       "25%     2006.000000      3.000000\n",
       "50%     2008.000000     18.000000\n",
       "75%     2011.000000    108.000000\n",
       "max     2013.000000  54000.000000"
      ]
     },
     "execution_count": 7,
     "metadata": {},
     "output_type": "execute_result"
    }
   ],
   "source": [
    "food_production.describe()"
   ]
  },
  {
   "cell_type": "code",
   "execution_count": 8,
   "metadata": {},
   "outputs": [
    {
     "data": {
      "text/plain": [
       "Country    0\n",
       "Item       0\n",
       "Year       0\n",
       "Value      0\n",
       "dtype: int64"
      ]
     },
     "execution_count": 8,
     "metadata": {},
     "output_type": "execute_result"
    }
   ],
   "source": [
    "## Checking for the null values\n",
    "\n",
    "food_production.isnull().sum()"
   ]
  },
  {
   "cell_type": "code",
   "execution_count": 13,
   "metadata": {},
   "outputs": [
    {
     "name": "stdout",
     "output_type": "stream",
     "text": [
      "Number of Countries:\n"
     ]
    },
    {
     "data": {
      "text/plain": [
       "45"
      ]
     },
     "execution_count": 13,
     "metadata": {},
     "output_type": "execute_result"
    }
   ],
   "source": [
    "print(\"Number of Countries:\")\n",
    "## Checking for how many countries are in the dataframe\n",
    "food_production[\"Country\"].nunique()"
   ]
  },
  {
   "cell_type": "markdown",
   "metadata": {},
   "source": [
    "## Grouping the dataset"
   ]
  },
  {
   "cell_type": "code",
   "execution_count": 29,
   "metadata": {},
   "outputs": [
    {
     "data": {
      "text/html": [
       "<div>\n",
       "<style scoped>\n",
       "    .dataframe tbody tr th:only-of-type {\n",
       "        vertical-align: middle;\n",
       "    }\n",
       "\n",
       "    .dataframe tbody tr th {\n",
       "        vertical-align: top;\n",
       "    }\n",
       "\n",
       "    .dataframe thead th {\n",
       "        text-align: right;\n",
       "    }\n",
       "</style>\n",
       "<table border=\"1\" class=\"dataframe\">\n",
       "  <thead>\n",
       "    <tr style=\"text-align: right;\">\n",
       "      <th></th>\n",
       "      <th></th>\n",
       "      <th></th>\n",
       "      <th>Value</th>\n",
       "    </tr>\n",
       "    <tr>\n",
       "      <th>Country</th>\n",
       "      <th>Item</th>\n",
       "      <th>Year</th>\n",
       "      <th></th>\n",
       "    </tr>\n",
       "  </thead>\n",
       "  <tbody>\n",
       "    <tr>\n",
       "      <th rowspan=\"20\" valign=\"top\">Algeria</th>\n",
       "      <th rowspan=\"10\" valign=\"top\">Apples and products</th>\n",
       "      <th>2004-01-01</th>\n",
       "      <td>165</td>\n",
       "    </tr>\n",
       "    <tr>\n",
       "      <th>2005-01-01</th>\n",
       "      <td>200</td>\n",
       "    </tr>\n",
       "    <tr>\n",
       "      <th>2006-01-01</th>\n",
       "      <td>283</td>\n",
       "    </tr>\n",
       "    <tr>\n",
       "      <th>2007-01-01</th>\n",
       "      <td>190</td>\n",
       "    </tr>\n",
       "    <tr>\n",
       "      <th>2008-01-01</th>\n",
       "      <td>261</td>\n",
       "    </tr>\n",
       "    <tr>\n",
       "      <th>2009-01-01</th>\n",
       "      <td>267</td>\n",
       "    </tr>\n",
       "    <tr>\n",
       "      <th>2010-01-01</th>\n",
       "      <td>379</td>\n",
       "    </tr>\n",
       "    <tr>\n",
       "      <th>2011-01-01</th>\n",
       "      <td>404</td>\n",
       "    </tr>\n",
       "    <tr>\n",
       "      <th>2012-01-01</th>\n",
       "      <td>398</td>\n",
       "    </tr>\n",
       "    <tr>\n",
       "      <th>2013-01-01</th>\n",
       "      <td>456</td>\n",
       "    </tr>\n",
       "    <tr>\n",
       "      <th rowspan=\"10\" valign=\"top\">Bananas</th>\n",
       "      <th>2004-01-01</th>\n",
       "      <td>0</td>\n",
       "    </tr>\n",
       "    <tr>\n",
       "      <th>2005-01-01</th>\n",
       "      <td>0</td>\n",
       "    </tr>\n",
       "    <tr>\n",
       "      <th>2006-01-01</th>\n",
       "      <td>0</td>\n",
       "    </tr>\n",
       "    <tr>\n",
       "      <th>2007-01-01</th>\n",
       "      <td>0</td>\n",
       "    </tr>\n",
       "    <tr>\n",
       "      <th>2008-01-01</th>\n",
       "      <td>0</td>\n",
       "    </tr>\n",
       "    <tr>\n",
       "      <th>2009-01-01</th>\n",
       "      <td>0</td>\n",
       "    </tr>\n",
       "    <tr>\n",
       "      <th>2010-01-01</th>\n",
       "      <td>0</td>\n",
       "    </tr>\n",
       "    <tr>\n",
       "      <th>2011-01-01</th>\n",
       "      <td>0</td>\n",
       "    </tr>\n",
       "    <tr>\n",
       "      <th>2012-01-01</th>\n",
       "      <td>0</td>\n",
       "    </tr>\n",
       "    <tr>\n",
       "      <th>2013-01-01</th>\n",
       "      <td>0</td>\n",
       "    </tr>\n",
       "  </tbody>\n",
       "</table>\n",
       "</div>"
      ],
      "text/plain": [
       "                                        Value\n",
       "Country Item                Year             \n",
       "Algeria Apples and products 2004-01-01    165\n",
       "                            2005-01-01    200\n",
       "                            2006-01-01    283\n",
       "                            2007-01-01    190\n",
       "                            2008-01-01    261\n",
       "                            2009-01-01    267\n",
       "                            2010-01-01    379\n",
       "                            2011-01-01    404\n",
       "                            2012-01-01    398\n",
       "                            2013-01-01    456\n",
       "        Bananas             2004-01-01      0\n",
       "                            2005-01-01      0\n",
       "                            2006-01-01      0\n",
       "                            2007-01-01      0\n",
       "                            2008-01-01      0\n",
       "                            2009-01-01      0\n",
       "                            2010-01-01      0\n",
       "                            2011-01-01      0\n",
       "                            2012-01-01      0\n",
       "                            2013-01-01      0"
      ]
     },
     "execution_count": 29,
     "metadata": {},
     "output_type": "execute_result"
    }
   ],
   "source": [
    "food_production_grped = food_production.groupby(['Country','Item','Year'])[\"Value\"].sum()\n",
    "food_production_grped=pd.DataFrame(food_production_grped)\n",
    "food_production_grped.head(20)"
   ]
  },
  {
   "cell_type": "code",
   "execution_count": 33,
   "metadata": {},
   "outputs": [
    {
     "data": {
      "text/html": [
       "<div>\n",
       "<style scoped>\n",
       "    .dataframe tbody tr th:only-of-type {\n",
       "        vertical-align: middle;\n",
       "    }\n",
       "\n",
       "    .dataframe tbody tr th {\n",
       "        vertical-align: top;\n",
       "    }\n",
       "\n",
       "    .dataframe thead th {\n",
       "        text-align: right;\n",
       "    }\n",
       "</style>\n",
       "<table border=\"1\" class=\"dataframe\">\n",
       "  <thead>\n",
       "    <tr style=\"text-align: right;\">\n",
       "      <th></th>\n",
       "      <th>Country</th>\n",
       "      <th>Year</th>\n",
       "      <th>Value</th>\n",
       "    </tr>\n",
       "  </thead>\n",
       "  <tbody>\n",
       "    <tr>\n",
       "      <th>0</th>\n",
       "      <td>Algeria</td>\n",
       "      <td>2004-01-01</td>\n",
       "      <td>15536</td>\n",
       "    </tr>\n",
       "    <tr>\n",
       "      <th>1</th>\n",
       "      <td>Algeria</td>\n",
       "      <td>2005-01-01</td>\n",
       "      <td>15667</td>\n",
       "    </tr>\n",
       "    <tr>\n",
       "      <th>2</th>\n",
       "      <td>Algeria</td>\n",
       "      <td>2006-01-01</td>\n",
       "      <td>16417</td>\n",
       "    </tr>\n",
       "    <tr>\n",
       "      <th>3</th>\n",
       "      <td>Algeria</td>\n",
       "      <td>2007-01-01</td>\n",
       "      <td>14763</td>\n",
       "    </tr>\n",
       "    <tr>\n",
       "      <th>4</th>\n",
       "      <td>Algeria</td>\n",
       "      <td>2008-01-01</td>\n",
       "      <td>13841</td>\n",
       "    </tr>\n",
       "    <tr>\n",
       "      <th>5</th>\n",
       "      <td>Algeria</td>\n",
       "      <td>2009-01-01</td>\n",
       "      <td>19820</td>\n",
       "    </tr>\n",
       "    <tr>\n",
       "      <th>6</th>\n",
       "      <td>Algeria</td>\n",
       "      <td>2010-01-01</td>\n",
       "      <td>20263</td>\n",
       "    </tr>\n",
       "    <tr>\n",
       "      <th>7</th>\n",
       "      <td>Algeria</td>\n",
       "      <td>2011-01-01</td>\n",
       "      <td>21778</td>\n",
       "    </tr>\n",
       "    <tr>\n",
       "      <th>8</th>\n",
       "      <td>Algeria</td>\n",
       "      <td>2012-01-01</td>\n",
       "      <td>24206</td>\n",
       "    </tr>\n",
       "    <tr>\n",
       "      <th>9</th>\n",
       "      <td>Algeria</td>\n",
       "      <td>2013-01-01</td>\n",
       "      <td>26359</td>\n",
       "    </tr>\n",
       "    <tr>\n",
       "      <th>10</th>\n",
       "      <td>Angola</td>\n",
       "      <td>2004-01-01</td>\n",
       "      <td>13028</td>\n",
       "    </tr>\n",
       "    <tr>\n",
       "      <th>11</th>\n",
       "      <td>Angola</td>\n",
       "      <td>2005-01-01</td>\n",
       "      <td>13811</td>\n",
       "    </tr>\n",
       "    <tr>\n",
       "      <th>12</th>\n",
       "      <td>Angola</td>\n",
       "      <td>2006-01-01</td>\n",
       "      <td>14264</td>\n",
       "    </tr>\n",
       "    <tr>\n",
       "      <th>13</th>\n",
       "      <td>Angola</td>\n",
       "      <td>2007-01-01</td>\n",
       "      <td>16025</td>\n",
       "    </tr>\n",
       "    <tr>\n",
       "      <th>14</th>\n",
       "      <td>Angola</td>\n",
       "      <td>2008-01-01</td>\n",
       "      <td>17288</td>\n",
       "    </tr>\n",
       "    <tr>\n",
       "      <th>15</th>\n",
       "      <td>Angola</td>\n",
       "      <td>2009-01-01</td>\n",
       "      <td>22244</td>\n",
       "    </tr>\n",
       "    <tr>\n",
       "      <th>16</th>\n",
       "      <td>Angola</td>\n",
       "      <td>2010-01-01</td>\n",
       "      <td>23805</td>\n",
       "    </tr>\n",
       "    <tr>\n",
       "      <th>17</th>\n",
       "      <td>Angola</td>\n",
       "      <td>2011-01-01</td>\n",
       "      <td>25672</td>\n",
       "    </tr>\n",
       "    <tr>\n",
       "      <th>18</th>\n",
       "      <td>Angola</td>\n",
       "      <td>2012-01-01</td>\n",
       "      <td>20505</td>\n",
       "    </tr>\n",
       "    <tr>\n",
       "      <th>19</th>\n",
       "      <td>Angola</td>\n",
       "      <td>2013-01-01</td>\n",
       "      <td>28857</td>\n",
       "    </tr>\n",
       "  </tbody>\n",
       "</table>\n",
       "</div>"
      ],
      "text/plain": [
       "    Country       Year  Value\n",
       "0   Algeria 2004-01-01  15536\n",
       "1   Algeria 2005-01-01  15667\n",
       "2   Algeria 2006-01-01  16417\n",
       "3   Algeria 2007-01-01  14763\n",
       "4   Algeria 2008-01-01  13841\n",
       "5   Algeria 2009-01-01  19820\n",
       "6   Algeria 2010-01-01  20263\n",
       "7   Algeria 2011-01-01  21778\n",
       "8   Algeria 2012-01-01  24206\n",
       "9   Algeria 2013-01-01  26359\n",
       "10   Angola 2004-01-01  13028\n",
       "11   Angola 2005-01-01  13811\n",
       "12   Angola 2006-01-01  14264\n",
       "13   Angola 2007-01-01  16025\n",
       "14   Angola 2008-01-01  17288\n",
       "15   Angola 2009-01-01  22244\n",
       "16   Angola 2010-01-01  23805\n",
       "17   Angola 2011-01-01  25672\n",
       "18   Angola 2012-01-01  20505\n",
       "19   Angola 2013-01-01  28857"
      ]
     },
     "execution_count": 33,
     "metadata": {},
     "output_type": "execute_result"
    }
   ],
   "source": [
    "foodproduc_df = food_production.groupby(['Country','Year'])[\"Value\"].sum().reset_index()\n",
    "foodproduc_df=pd.DataFrame(foodproduc_df)\n",
    "foodproduc_df.head(20)"
   ]
  },
  {
   "cell_type": "code",
   "execution_count": 34,
   "metadata": {},
   "outputs": [
    {
     "data": {
      "text/plain": [
       "(450, 3)"
      ]
     },
     "execution_count": 34,
     "metadata": {},
     "output_type": "execute_result"
    }
   ],
   "source": [
    "foodproduc_df.shape"
   ]
  },
  {
   "cell_type": "markdown",
   "metadata": {},
   "source": [
    "# Food Supply Dataset"
   ]
  },
  {
   "cell_type": "code",
   "execution_count": 59,
   "metadata": {},
   "outputs": [
    {
     "data": {
      "text/html": [
       "<div>\n",
       "<style scoped>\n",
       "    .dataframe tbody tr th:only-of-type {\n",
       "        vertical-align: middle;\n",
       "    }\n",
       "\n",
       "    .dataframe tbody tr th {\n",
       "        vertical-align: top;\n",
       "    }\n",
       "\n",
       "    .dataframe thead th {\n",
       "        text-align: right;\n",
       "    }\n",
       "</style>\n",
       "<table border=\"1\" class=\"dataframe\">\n",
       "  <thead>\n",
       "    <tr style=\"text-align: right;\">\n",
       "      <th></th>\n",
       "      <th>Country</th>\n",
       "      <th>Year</th>\n",
       "      <th>Value</th>\n",
       "    </tr>\n",
       "  </thead>\n",
       "  <tbody>\n",
       "    <tr>\n",
       "      <th>0</th>\n",
       "      <td>Algeria</td>\n",
       "      <td>2004</td>\n",
       "      <td>2987</td>\n",
       "    </tr>\n",
       "    <tr>\n",
       "      <th>1</th>\n",
       "      <td>Algeria</td>\n",
       "      <td>2005</td>\n",
       "      <td>2958</td>\n",
       "    </tr>\n",
       "    <tr>\n",
       "      <th>2</th>\n",
       "      <td>Algeria</td>\n",
       "      <td>2006</td>\n",
       "      <td>3047</td>\n",
       "    </tr>\n",
       "    <tr>\n",
       "      <th>3</th>\n",
       "      <td>Algeria</td>\n",
       "      <td>2007</td>\n",
       "      <td>3041</td>\n",
       "    </tr>\n",
       "    <tr>\n",
       "      <th>4</th>\n",
       "      <td>Algeria</td>\n",
       "      <td>2008</td>\n",
       "      <td>3048</td>\n",
       "    </tr>\n",
       "  </tbody>\n",
       "</table>\n",
       "</div>"
      ],
      "text/plain": [
       "   Country  Year  Value\n",
       "0  Algeria  2004   2987\n",
       "1  Algeria  2005   2958\n",
       "2  Algeria  2006   3047\n",
       "3  Algeria  2007   3041\n",
       "4  Algeria  2008   3048"
      ]
     },
     "execution_count": 59,
     "metadata": {},
     "output_type": "execute_result"
    }
   ],
   "source": [
    "food_supply = pd.read_csv(\"Africa Food Supply (2004 - 2013).csv\")\n",
    "food_supply.head()"
   ]
  },
  {
   "cell_type": "code",
   "execution_count": 83,
   "metadata": {},
   "outputs": [
    {
     "data": {
      "text/plain": [
       "(450, 3)"
      ]
     },
     "execution_count": 83,
     "metadata": {},
     "output_type": "execute_result"
    }
   ],
   "source": [
    "food_supply.shape"
   ]
  },
  {
   "cell_type": "code",
   "execution_count": 60,
   "metadata": {},
   "outputs": [
    {
     "name": "stdout",
     "output_type": "stream",
     "text": [
      "<class 'pandas.core.frame.DataFrame'>\n",
      "RangeIndex: 450 entries, 0 to 449\n",
      "Data columns (total 3 columns):\n",
      " #   Column   Non-Null Count  Dtype \n",
      "---  ------   --------------  ----- \n",
      " 0   Country  450 non-null    object\n",
      " 1   Year     450 non-null    int64 \n",
      " 2   Value    450 non-null    int64 \n",
      "dtypes: int64(2), object(1)\n",
      "memory usage: 10.7+ KB\n"
     ]
    }
   ],
   "source": [
    "food_supply.info()"
   ]
  },
  {
   "cell_type": "code",
   "execution_count": 61,
   "metadata": {},
   "outputs": [
    {
     "name": "stdout",
     "output_type": "stream",
     "text": [
      "<class 'pandas.core.frame.DataFrame'>\n",
      "RangeIndex: 450 entries, 0 to 449\n",
      "Data columns (total 3 columns):\n",
      " #   Column   Non-Null Count  Dtype         \n",
      "---  ------   --------------  -----         \n",
      " 0   Country  450 non-null    object        \n",
      " 1   Year     450 non-null    datetime64[ns]\n",
      " 2   Value    450 non-null    int64         \n",
      "dtypes: datetime64[ns](1), int64(1), object(1)\n",
      "memory usage: 10.7+ KB\n"
     ]
    }
   ],
   "source": [
    "## Changing the year column into datetime\n",
    "food_supply['Year'] = pd.to_datetime(food_supply['Year'], format='%Y')\n",
    "\n",
    "# Display the updated DataFrame information\n",
    "food_supply.info()"
   ]
  },
  {
   "cell_type": "code",
   "execution_count": 62,
   "metadata": {},
   "outputs": [
    {
     "data": {
      "text/plain": [
       "Country    0\n",
       "Year       0\n",
       "Value      0\n",
       "dtype: int64"
      ]
     },
     "execution_count": 62,
     "metadata": {},
     "output_type": "execute_result"
    }
   ],
   "source": [
    "food_supply.isnull().sum()"
   ]
  },
  {
   "cell_type": "code",
   "execution_count": 66,
   "metadata": {},
   "outputs": [
    {
     "data": {
      "text/html": [
       "<div>\n",
       "<style scoped>\n",
       "    .dataframe tbody tr th:only-of-type {\n",
       "        vertical-align: middle;\n",
       "    }\n",
       "\n",
       "    .dataframe tbody tr th {\n",
       "        vertical-align: top;\n",
       "    }\n",
       "\n",
       "    .dataframe thead th {\n",
       "        text-align: right;\n",
       "    }\n",
       "</style>\n",
       "<table border=\"1\" class=\"dataframe\">\n",
       "  <thead>\n",
       "    <tr style=\"text-align: right;\">\n",
       "      <th></th>\n",
       "      <th>Country</th>\n",
       "      <th>Year</th>\n",
       "      <th>Value</th>\n",
       "    </tr>\n",
       "  </thead>\n",
       "  <tbody>\n",
       "    <tr>\n",
       "      <th>0</th>\n",
       "      <td>Algeria</td>\n",
       "      <td>2004-01-01</td>\n",
       "      <td>2987</td>\n",
       "    </tr>\n",
       "    <tr>\n",
       "      <th>1</th>\n",
       "      <td>Algeria</td>\n",
       "      <td>2005-01-01</td>\n",
       "      <td>2958</td>\n",
       "    </tr>\n",
       "    <tr>\n",
       "      <th>2</th>\n",
       "      <td>Algeria</td>\n",
       "      <td>2006-01-01</td>\n",
       "      <td>3047</td>\n",
       "    </tr>\n",
       "    <tr>\n",
       "      <th>3</th>\n",
       "      <td>Algeria</td>\n",
       "      <td>2007-01-01</td>\n",
       "      <td>3041</td>\n",
       "    </tr>\n",
       "    <tr>\n",
       "      <th>4</th>\n",
       "      <td>Algeria</td>\n",
       "      <td>2008-01-01</td>\n",
       "      <td>3048</td>\n",
       "    </tr>\n",
       "    <tr>\n",
       "      <th>...</th>\n",
       "      <td>...</td>\n",
       "      <td>...</td>\n",
       "      <td>...</td>\n",
       "    </tr>\n",
       "    <tr>\n",
       "      <th>445</th>\n",
       "      <td>Zimbabwe</td>\n",
       "      <td>2009-01-01</td>\n",
       "      <td>2147</td>\n",
       "    </tr>\n",
       "    <tr>\n",
       "      <th>446</th>\n",
       "      <td>Zimbabwe</td>\n",
       "      <td>2010-01-01</td>\n",
       "      <td>2168</td>\n",
       "    </tr>\n",
       "    <tr>\n",
       "      <th>447</th>\n",
       "      <td>Zimbabwe</td>\n",
       "      <td>2011-01-01</td>\n",
       "      <td>2200</td>\n",
       "    </tr>\n",
       "    <tr>\n",
       "      <th>448</th>\n",
       "      <td>Zimbabwe</td>\n",
       "      <td>2012-01-01</td>\n",
       "      <td>2197</td>\n",
       "    </tr>\n",
       "    <tr>\n",
       "      <th>449</th>\n",
       "      <td>Zimbabwe</td>\n",
       "      <td>2013-01-01</td>\n",
       "      <td>2110</td>\n",
       "    </tr>\n",
       "  </tbody>\n",
       "</table>\n",
       "<p>450 rows × 3 columns</p>\n",
       "</div>"
      ],
      "text/plain": [
       "      Country       Year  Value\n",
       "0     Algeria 2004-01-01   2987\n",
       "1     Algeria 2005-01-01   2958\n",
       "2     Algeria 2006-01-01   3047\n",
       "3     Algeria 2007-01-01   3041\n",
       "4     Algeria 2008-01-01   3048\n",
       "..        ...        ...    ...\n",
       "445  Zimbabwe 2009-01-01   2147\n",
       "446  Zimbabwe 2010-01-01   2168\n",
       "447  Zimbabwe 2011-01-01   2200\n",
       "448  Zimbabwe 2012-01-01   2197\n",
       "449  Zimbabwe 2013-01-01   2110\n",
       "\n",
       "[450 rows x 3 columns]"
      ]
     },
     "execution_count": 66,
     "metadata": {},
     "output_type": "execute_result"
    }
   ],
   "source": [
    "## Doing a groupby for the food consumption\n",
    "food_supply.groupby([\"Country\", \"Year\"])[\"Value\"].sum()\n",
    "food_supply_df= pd.DataFrame(food_supply)\n",
    "food_supply_df"
   ]
  },
  {
   "cell_type": "markdown",
   "metadata": {},
   "source": [
    "## `Deliverable 1.a : A Trends in food production over the years.`\n",
    "\n",
    "* Here, I used a line graph to demonstrate the trend in food production over the years"
   ]
  },
  {
   "cell_type": "code",
   "execution_count": 54,
   "metadata": {},
   "outputs": [
    {
     "name": "stderr",
     "output_type": "stream",
     "text": [
      "<ipython-input-54-4a8bb042ec64>:4: MatplotlibDeprecationWarning:\n",
      "\n",
      "Case-insensitive properties were deprecated in 3.3 and support will be removed two minor releases later\n",
      "\n"
     ]
    },
    {
     "data": {
      "image/png": "[encoded data removed]",
      "text/plain": [
       "<Figure size 1224x1224 with 1 Axes>"
      ]
     },
     "metadata": {},
     "output_type": "display_data"
    }
   ],
   "source": [
    "sns.set(rc = {'figure.figsize':(17,17)})\n",
    "proddatasetlp = sns.lineplot(x  ='Year', y = 'Value', hue = 'Country', palette = 'dark', data = foodproduc_df, legend=False)\n",
    "proddatasetlp.set(yscale = 'log')\n",
    "proddatasetlp.set(Title =  'A Trend in Food Production in the 45 Countries')\n",
    "\n",
    "# Adding the country names on the lines\n",
    "for line, label in zip(proddatasetlp.lines, foodproduc_df['Country'].unique()):\n",
    "    x_data, y_data = line.get_xydata().T\n",
    "    if x_data.size > 0:\n",
    "        plt.text(x_data[-1], y_data[-1], label, color=line.get_color(), fontsize=9, ha='left', va='center')\n",
    "\n",
    "plt.show()\n"
   ]
  },
  {
   "cell_type": "markdown",
   "metadata": {},
   "source": [
    "`Observation:`\n",
    "\n",
    "* We can clearly see that the top 3 countries leading in food production over the years are : Nigeria, Egypt and South Africa\n",
    "  \n",
    "* The bottom 3 countries when it comes to food production in Africa over the years are : Djibouti, Sao Tome and Principe and Cabo Verde\n",
    "\n",
    "\n",
    "* The high food production in Nigeria, Egypt, and South Africa can be attributed to a combination of favorable climate conditions, diverse and advanced agricultural practices, supportive government policies, continuous technological advancements, and well-developed infrastructure.\n",
    "  \n",
    "* The lower food production levels observed in Djibouti, Sao Tome and Principe, and Cabo Verde can be linked to a combination of geographical constraints, limited agricultural practices, and challenges in infrastructure development"
   ]
  },
  {
   "cell_type": "markdown",
   "metadata": {},
   "source": [
    "### `Food Production Over the Years`"
   ]
  },
  {
   "cell_type": "code",
   "execution_count": 77,
   "metadata": {},
   "outputs": [
    {
     "data": {
      "text/html": [
       "<div>\n",
       "<style scoped>\n",
       "    .dataframe tbody tr th:only-of-type {\n",
       "        vertical-align: middle;\n",
       "    }\n",
       "\n",
       "    .dataframe tbody tr th {\n",
       "        vertical-align: top;\n",
       "    }\n",
       "\n",
       "    .dataframe thead th {\n",
       "        text-align: right;\n",
       "    }\n",
       "</style>\n",
       "<table border=\"1\" class=\"dataframe\">\n",
       "  <thead>\n",
       "    <tr style=\"text-align: right;\">\n",
       "      <th></th>\n",
       "      <th>Year</th>\n",
       "      <th>Value</th>\n",
       "    </tr>\n",
       "  </thead>\n",
       "  <tbody>\n",
       "    <tr>\n",
       "      <th>0</th>\n",
       "      <td>2004</td>\n",
       "      <td>663006</td>\n",
       "    </tr>\n",
       "    <tr>\n",
       "      <th>1</th>\n",
       "      <td>2005</td>\n",
       "      <td>691257</td>\n",
       "    </tr>\n",
       "    <tr>\n",
       "      <th>2</th>\n",
       "      <td>2006</td>\n",
       "      <td>718602</td>\n",
       "    </tr>\n",
       "    <tr>\n",
       "      <th>3</th>\n",
       "      <td>2007</td>\n",
       "      <td>705659</td>\n",
       "    </tr>\n",
       "    <tr>\n",
       "      <th>4</th>\n",
       "      <td>2008</td>\n",
       "      <td>736804</td>\n",
       "    </tr>\n",
       "    <tr>\n",
       "      <th>5</th>\n",
       "      <td>2009</td>\n",
       "      <td>746870</td>\n",
       "    </tr>\n",
       "    <tr>\n",
       "      <th>6</th>\n",
       "      <td>2010</td>\n",
       "      <td>786466</td>\n",
       "    </tr>\n",
       "    <tr>\n",
       "      <th>7</th>\n",
       "      <td>2011</td>\n",
       "      <td>812214</td>\n",
       "    </tr>\n",
       "    <tr>\n",
       "      <th>8</th>\n",
       "      <td>2012</td>\n",
       "      <td>841667</td>\n",
       "    </tr>\n",
       "    <tr>\n",
       "      <th>9</th>\n",
       "      <td>2013</td>\n",
       "      <td>872571</td>\n",
       "    </tr>\n",
       "  </tbody>\n",
       "</table>\n",
       "</div>"
      ],
      "text/plain": [
       "   Year   Value\n",
       "0  2004  663006\n",
       "1  2005  691257\n",
       "2  2006  718602\n",
       "3  2007  705659\n",
       "4  2008  736804\n",
       "5  2009  746870\n",
       "6  2010  786466\n",
       "7  2011  812214\n",
       "8  2012  841667\n",
       "9  2013  872571"
      ]
     },
     "execution_count": 77,
     "metadata": {},
     "output_type": "execute_result"
    }
   ],
   "source": [
    "pd.DataFrame(foodproduc_df.groupby(['Year'])['Value'].sum().reset_index())"
   ]
  },
  {
   "cell_type": "code",
   "execution_count": 69,
   "metadata": {},
   "outputs": [
    {
     "data": {
      "image/png": "[encoded data removed]",
      "text/plain": [
       "<Figure size 864x576 with 1 Axes>"
      ]
     },
     "metadata": {},
     "output_type": "display_data"
    }
   ],
   "source": [
    "plt.figure(figsize=(12, 8))\n",
    "sns.barplot(x='Year', y='Value', data=foodproduc_df, ci=None)  # Set ci=None to remove error bars\n",
    "plt.title('Food Production Across Different Years')\n",
    "plt.xlabel('Year')\n",
    "plt.ylabel('Food Production Value')\n",
    "plt.xticks(rotation=45)\n",
    "\n",
    "plt.show()"
   ]
  },
  {
   "cell_type": "markdown",
   "metadata": {},
   "source": [
    "`Observation:`\n",
    "\n",
    "* The year 2013 stands out as the peak production year, reaching the highest total food production of 872,571 units.\n",
    "\n",
    "\n",
    "* Conversely, the year 2004 reflects the lowest production during the specified period, with a total of 663,006 units."
   ]
  },
  {
   "cell_type": "markdown",
   "metadata": {},
   "source": [
    "## A Map representation of the Countries"
   ]
  },
  {
   "cell_type": "code",
   "execution_count": 45,
   "metadata": {},
   "outputs": [
    {
     "data": {
      "application/vnd.plotly.v1+json": {
       "config": {
        "plotlyServerURL": "https://plot.ly"
       },
       "data": [
        {
         "coloraxis": "coloraxis",
         "geo": "geo",
         "hovertemplate": "<b>%{hovertext}</b><br><br>Year=2004<br>Country=%{location}<br>Value=%{z}<extra></extra>",
         "hovertext": [
          "Algeria",
          "Angola",
          "Benin",
          "Botswana",
          "Burkina Faso",
          "Cabo Verde",
          "Cameroon",
          "Central African Republic",
          "Chad",
          "Congo",
          "Cote d'Ivoire",
          "Djibouti",
          "Egypt",
          "Ethiopia",
          "Gabon",
          "Gambia",
          "Ghana",
          "Guinea",
          "Guinea-Bissau",
          "Kenya",
          "Lesotho",
          "Liberia",
          "Madagascar",
          "Malawi",
          "Mali",
          "Mauritania",
          "Mauritius",
          "Morocco",
          "Mozambique",
          "Namibia",
          "Niger",
          "Nigeria",
          "Rwanda",
          "Sao Tome and Principe",
          "Senegal",
          "Sierra Leone",
          "South Africa",
          "Sudan",
          "Swaziland",
          "Togo",
          "Tunisia",
          "Uganda",
          "United Republic of Tanzania",
          "Zambia",
          "Zimbabwe"
         ],
         "locationmode": "country names",
         "locations": [
          "Algeria",
          "Angola",
          "Benin",
          "Botswana",
          "Burkina Faso",
          "Cabo Verde",
          "Cameroon",
          "Central African Republic",
          "Chad",
          "Congo",
          "Cote d'Ivoire",
          "Djibouti",
          "Egypt",
          "Ethiopia",
          "Gabon",
          "Gambia",
          "Ghana",
          "Guinea",
          "Guinea-Bissau",
          "Kenya",
          "Lesotho",
          "Liberia",
          "Madagascar",
          "Malawi",
          "Mali",
          "Mauritania",
          "Mauritius",
          "Morocco",
          "Mozambique",
          "Namibia",
          "Niger",
          "Nigeria",
          "Rwanda",
          "Sao Tome and Principe",
          "Senegal",
          "Sierra Leone",
          "South Africa",
          "Sudan",
          "Swaziland",
          "Togo",
          "Tunisia",
          "Uganda",
          "United Republic of Tanzania",
          "Zambia",
          "Zimbabwe"
         ],
         "name": "",
         "type": "choropleth",
         "z": [
          15536,
          13028,
          7963,
          461,
          8323,
          148,
          13739,
          2242,
          3660,
          2241,
          16675,
          55,
          75989,
          26246,
          1211,
          473,
          24040,
          5891,
          637,
          20664,
          371,
          1382,
          10360,
          10917,
          6275,
          906,
          6081,
          27244,
          12867,
          1421,
          5852,
          149857,
          6863,
          113,
          4368,
          3592,
          54949,
          28646,
          5950,
          2765,
          8503,
          31819,
          27389,
          6310,
          8984
         ]
        }
       ],
       "frames": [
        {
         "data": [
          {
           "coloraxis": "coloraxis",
           "geo": "geo",
           "hovertemplate": "<b>%{hovertext}</b><br><br>Year=2004<br>Country=%{location}<br>Value=%{z}<extra></extra>",
           "hovertext": [
            "Algeria",
            "Angola",
            "Benin",
            "Botswana",
            "Burkina Faso",
            "Cabo Verde",
            "Cameroon",
            "Central African Republic",
            "Chad",
            "Congo",
            "Cote d'Ivoire",
            "Djibouti",
            "Egypt",
            "Ethiopia",
            "Gabon",
            "Gambia",
            "Ghana",
            "Guinea",
            "Guinea-Bissau",
            "Kenya",
            "Lesotho",
            "Liberia",
            "Madagascar",
            "Malawi",
            "Mali",
            "Mauritania",
            "Mauritius",
            "Morocco",
            "Mozambique",
            "Namibia",
            "Niger",
            "Nigeria",
            "Rwanda",
            "Sao Tome and Principe",
            "Senegal",
            "Sierra Leone",
            "South Africa",
            "Sudan",
            "Swaziland",
            "Togo",
            "Tunisia",
            "Uganda",
            "United Republic of Tanzania",
            "Zambia",
            "Zimbabwe"
           ],
           "locationmode": "country names",
           "locations": [
            "Algeria",
            "Angola",
            "Benin",
            "Botswana",
            "Burkina Faso",
            "Cabo Verde",
            "Cameroon",
            "Central African Republic",
            "Chad",
            "Congo",
            "Cote d'Ivoire",
            "Djibouti",
            "Egypt",
            "Ethiopia",
            "Gabon",
            "Gambia",
            "Ghana",
            "Guinea",
            "Guinea-Bissau",
            "Kenya",
            "Lesotho",
            "Liberia",
            "Madagascar",
            "Malawi",
            "Mali",
            "Mauritania",
            "Mauritius",
            "Morocco",
            "Mozambique",
            "Namibia",
            "Niger",
            "Nigeria",
            "Rwanda",
            "Sao Tome and Principe",
            "Senegal",
            "Sierra Leone",
            "South Africa",
            "Sudan",
            "Swaziland",
            "Togo",
            "Tunisia",
            "Uganda",
            "United Republic of Tanzania",
            "Zambia",
            "Zimbabwe"
           ],
           "name": "",
           "type": "choropleth",
           "z": [
            15536,
            13028,
            7963,
            461,
            8323,
            148,
            13739,
            2242,
            3660,
            2241,
            16675,
            55,
            75989,
            26246,
            1211,
            473,
            24040,
            5891,
            637,
            20664,
            371,
            1382,
            10360,
            10917,
            6275,
            906,
            6081,
            27244,
            12867,
            1421,
            5852,
            149857,
            6863,
            113,
            4368,
            3592,
            54949,
            28646,
            5950,
            2765,
            8503,
            31819,
            27389,
            6310,
            8984
           ]
          }
         ],
         "name": "2004"
        },
        {
         "data": [
          {
           "coloraxis": "coloraxis",
           "geo": "geo",
           "hovertemplate": "<b>%{hovertext}</b><br><br>Year=2005<br>Country=%{location}<br>Value=%{z}<extra></extra>",
           "hovertext": [
            "Algeria",
            "Angola",
            "Benin",
            "Botswana",
            "Burkina Faso",
            "Cabo Verde",
            "Cameroon",
            "Central African Republic",
            "Chad",
            "Congo",
            "Cote d'Ivoire",
            "Djibouti",
            "Egypt",
            "Ethiopia",
            "Gabon",
            "Gambia",
            "Ghana",
            "Guinea",
            "Guinea-Bissau",
            "Kenya",
            "Lesotho",
            "Liberia",
            "Madagascar",
            "Malawi",
            "Mali",
            "Mauritania",
            "Mauritius",
            "Morocco",
            "Mozambique",
            "Namibia",
            "Niger",
            "Nigeria",
            "Rwanda",
            "Sao Tome and Principe",
            "Senegal",
            "Sierra Leone",
            "South Africa",
            "Sudan",
            "Swaziland",
            "Togo",
            "Tunisia",
            "Uganda",
            "United Republic of Tanzania",
            "Zambia",
            "Zimbabwe"
           ],
           "locationmode": "country names",
           "locations": [
            "Algeria",
            "Angola",
            "Benin",
            "Botswana",
            "Burkina Faso",
            "Cabo Verde",
            "Cameroon",
            "Central African Republic",
            "Chad",
            "Congo",
            "Cote d'Ivoire",
            "Djibouti",
            "Egypt",
            "Ethiopia",
            "Gabon",
            "Gambia",
            "Ghana",
            "Guinea",
            "Guinea-Bissau",
            "Kenya",
            "Lesotho",
            "Liberia",
            "Madagascar",
            "Malawi",
            "Mali",
            "Mauritania",
            "Mauritius",
            "Morocco",
            "Mozambique",
            "Namibia",
            "Niger",
            "Nigeria",
            "Rwanda",
            "Sao Tome and Principe",
            "Senegal",
            "Sierra Leone",
            "South Africa",
            "Sudan",
            "Swaziland",
            "Togo",
            "Tunisia",
            "Uganda",
            "United Republic of Tanzania",
            "Zambia",
            "Zimbabwe"
           ],
           "name": "",
           "type": "choropleth",
           "z": [
            15667,
            13811,
            7764,
            460,
            9392,
            156,
            16033,
            2293,
            4360,
            2318,
            17114,
            62,
            80422,
            29527,
            1246,
            440,
            24448,
            6099,
            703,
            23745,
            383,
            1443,
            12228,
            9786,
            7233,
            1016,
            5720,
            22794,
            11391,
            1434,
            7170,
            158149,
            7370,
            117,
            4757,
            3040,
            59577,
            31369,
            6407,
            2730,
            8795,
            31645,
            27329,
            6075,
            7239
           ]
          }
         ],
         "name": "2005"
        },
        {
         "data": [
          {
           "coloraxis": "coloraxis",
           "geo": "geo",
           "hovertemplate": "<b>%{hovertext}</b><br><br>Year=2006<br>Country=%{location}<br>Value=%{z}<extra></extra>",
           "hovertext": [
            "Algeria",
            "Angola",
            "Benin",
            "Botswana",
            "Burkina Faso",
            "Cabo Verde",
            "Cameroon",
            "Central African Republic",
            "Chad",
            "Congo",
            "Cote d'Ivoire",
            "Djibouti",
            "Egypt",
            "Ethiopia",
            "Gabon",
            "Gambia",
            "Ghana",
            "Guinea",
            "Guinea-Bissau",
            "Kenya",
            "Lesotho",
            "Liberia",
            "Madagascar",
            "Malawi",
            "Mali",
            "Mauritania",
            "Mauritius",
            "Morocco",
            "Mozambique",
            "Namibia",
            "Niger",
            "Nigeria",
            "Rwanda",
            "Sao Tome and Principe",
            "Senegal",
            "Sierra Leone",
            "South Africa",
            "Sudan",
            "Swaziland",
            "Togo",
            "Tunisia",
            "Uganda",
            "United Republic of Tanzania",
            "Zambia",
            "Zimbabwe"
           ],
           "locationmode": "country names",
           "locations": [
            "Algeria",
            "Angola",
            "Benin",
            "Botswana",
            "Burkina Faso",
            "Cabo Verde",
            "Cameroon",
            "Central African Republic",
            "Chad",
            "Congo",
            "Cote d'Ivoire",
            "Djibouti",
            "Egypt",
            "Ethiopia",
            "Gabon",
            "Gambia",
            "Ghana",
            "Guinea",
            "Guinea-Bissau",
            "Kenya",
            "Lesotho",
            "Liberia",
            "Madagascar",
            "Malawi",
            "Mali",
            "Mauritania",
            "Mauritius",
            "Morocco",
            "Mozambique",
            "Namibia",
            "Niger",
            "Nigeria",
            "Rwanda",
            "Sao Tome and Principe",
            "Senegal",
            "Sierra Leone",
            "South Africa",
            "Sudan",
            "Swaziland",
            "Togo",
            "Tunisia",
            "Uganda",
            "United Republic of Tanzania",
            "Zambia",
            "Zimbabwe"
           ],
           "name": "",
           "type": "choropleth",
           "z": [
            16417,
            14264,
            7110,
            454,
            9393,
            158,
            16962,
            2329,
            4423,
            2365,
            17660,
            56,
            83191,
            30117,
            1263,
            458,
            25054,
            6166,
            705,
            24656,
            383,
            1358,
            12608,
            13078,
            7301,
            875,
            5471,
            28594,
            12665,
            1448,
            7855,
            168987,
            7405,
            117,
            4030,
            3657,
            54024,
            30834,
            6124,
            2908,
            8688,
            31415,
            30472,
            6879,
            8225
           ]
          }
         ],
         "name": "2006"
        },
        {
         "data": [
          {
           "coloraxis": "coloraxis",
           "geo": "geo",
           "hovertemplate": "<b>%{hovertext}</b><br><br>Year=2007<br>Country=%{location}<br>Value=%{z}<extra></extra>",
           "hovertext": [
            "Algeria",
            "Angola",
            "Benin",
            "Botswana",
            "Burkina Faso",
            "Cabo Verde",
            "Cameroon",
            "Central African Republic",
            "Chad",
            "Congo",
            "Cote d'Ivoire",
            "Djibouti",
            "Egypt",
            "Ethiopia",
            "Gabon",
            "Gambia",
            "Ghana",
            "Guinea",
            "Guinea-Bissau",
            "Kenya",
            "Lesotho",
            "Liberia",
            "Madagascar",
            "Malawi",
            "Mali",
            "Mauritania",
            "Mauritius",
            "Morocco",
            "Mozambique",
            "Namibia",
            "Niger",
            "Nigeria",
            "Rwanda",
            "Sao Tome and Principe",
            "Senegal",
            "Sierra Leone",
            "South Africa",
            "Sudan",
            "Swaziland",
            "Togo",
            "Tunisia",
            "Uganda",
            "United Republic of Tanzania",
            "Zambia",
            "Zimbabwe"
           ],
           "locationmode": "country names",
           "locations": [
            "Algeria",
            "Angola",
            "Benin",
            "Botswana",
            "Burkina Faso",
            "Cabo Verde",
            "Cameroon",
            "Central African Republic",
            "Chad",
            "Congo",
            "Cote d'Ivoire",
            "Djibouti",
            "Egypt",
            "Ethiopia",
            "Gabon",
            "Gambia",
            "Ghana",
            "Guinea",
            "Guinea-Bissau",
            "Kenya",
            "Lesotho",
            "Liberia",
            "Madagascar",
            "Malawi",
            "Mali",
            "Mauritania",
            "Mauritius",
            "Morocco",
            "Mozambique",
            "Namibia",
            "Niger",
            "Nigeria",
            "Rwanda",
            "Sao Tome and Principe",
            "Senegal",
            "Sierra Leone",
            "South Africa",
            "Sudan",
            "Swaziland",
            "Togo",
            "Tunisia",
            "Uganda",
            "United Republic of Tanzania",
            "Zambia",
            "Zimbabwe"
           ],
           "name": "",
           "type": "choropleth",
           "z": [
            14763,
            16025,
            7679,
            439,
            8467,
            157,
            17657,
            2426,
            4243,
            2438,
            17570,
            63,
            86828,
            29891,
            1289,
            360,
            25286,
            6393,
            654,
            24433,
            344,
            1446,
            12720,
            14908,
            8249,
            913,
            4891,
            20869,
            12640,
            1331,
            8152,
            157273,
            7295,
            113,
            4024,
            3731,
            53795,
            31689,
            6096,
            2938,
            9052,
            31891,
            30673,
            6743,
            6822
           ]
          }
         ],
         "name": "2007"
        },
        {
         "data": [
          {
           "coloraxis": "coloraxis",
           "geo": "geo",
           "hovertemplate": "<b>%{hovertext}</b><br><br>Year=2008<br>Country=%{location}<br>Value=%{z}<extra></extra>",
           "hovertext": [
            "Algeria",
            "Angola",
            "Benin",
            "Botswana",
            "Burkina Faso",
            "Cabo Verde",
            "Cameroon",
            "Central African Republic",
            "Chad",
            "Congo",
            "Cote d'Ivoire",
            "Djibouti",
            "Egypt",
            "Ethiopia",
            "Gabon",
            "Gambia",
            "Ghana",
            "Guinea",
            "Guinea-Bissau",
            "Kenya",
            "Lesotho",
            "Liberia",
            "Madagascar",
            "Malawi",
            "Mali",
            "Mauritania",
            "Mauritius",
            "Morocco",
            "Mozambique",
            "Namibia",
            "Niger",
            "Nigeria",
            "Rwanda",
            "Sao Tome and Principe",
            "Senegal",
            "Sierra Leone",
            "South Africa",
            "Sudan",
            "Swaziland",
            "Togo",
            "Tunisia",
            "Uganda",
            "United Republic of Tanzania",
            "Zambia",
            "Zimbabwe"
           ],
           "locationmode": "country names",
           "locations": [
            "Algeria",
            "Angola",
            "Benin",
            "Botswana",
            "Burkina Faso",
            "Cabo Verde",
            "Cameroon",
            "Central African Republic",
            "Chad",
            "Congo",
            "Cote d'Ivoire",
            "Djibouti",
            "Egypt",
            "Ethiopia",
            "Gabon",
            "Gambia",
            "Ghana",
            "Guinea",
            "Guinea-Bissau",
            "Kenya",
            "Lesotho",
            "Liberia",
            "Madagascar",
            "Malawi",
            "Mali",
            "Mauritania",
            "Mauritius",
            "Morocco",
            "Mozambique",
            "Namibia",
            "Niger",
            "Nigeria",
            "Rwanda",
            "Sao Tome and Principe",
            "Senegal",
            "Sierra Leone",
            "South Africa",
            "Sudan",
            "Swaziland",
            "Togo",
            "Tunisia",
            "Uganda",
            "United Republic of Tanzania",
            "Zambia",
            "Zimbabwe"
           ],
           "name": "",
           "type": "choropleth",
           "z": [
            13841,
            17288,
            8723,
            470,
            10373,
            172,
            18459,
            2494,
            4332,
            2530,
            18496,
            62,
            89489,
            31880,
            1308,
            472,
            28290,
            6512,
            725,
            24928,
            347,
            1491,
            12774,
            14910,
            8855,
            909,
            5200,
            24679,
            12646,
            1335,
            9820,
            167935,
            8371,
            114,
            5987,
            3991,
            61162,
            30731,
            6149,
            3085,
            8842,
            23491,
            30876,
            6383,
            5877
           ]
          }
         ],
         "name": "2008"
        },
        {
         "data": [
          {
           "coloraxis": "coloraxis",
           "geo": "geo",
           "hovertemplate": "<b>%{hovertext}</b><br><br>Year=2009<br>Country=%{location}<br>Value=%{z}<extra></extra>",
           "hovertext": [
            "Algeria",
            "Angola",
            "Benin",
            "Botswana",
            "Burkina Faso",
            "Cabo Verde",
            "Cameroon",
            "Central African Republic",
            "Chad",
            "Congo",
            "Cote d'Ivoire",
            "Djibouti",
            "Egypt",
            "Ethiopia",
            "Gabon",
            "Gambia",
            "Ghana",
            "Guinea",
            "Guinea-Bissau",
            "Kenya",
            "Lesotho",
            "Liberia",
            "Madagascar",
            "Malawi",
            "Mali",
            "Mauritania",
            "Mauritius",
            "Morocco",
            "Mozambique",
            "Namibia",
            "Niger",
            "Nigeria",
            "Rwanda",
            "Sao Tome and Principe",
            "Senegal",
            "Sierra Leone",
            "South Africa",
            "Sudan",
            "Swaziland",
            "Togo",
            "Tunisia",
            "Uganda",
            "United Republic of Tanzania",
            "Zambia",
            "Zimbabwe"
           ],
           "locationmode": "country names",
           "locations": [
            "Algeria",
            "Angola",
            "Benin",
            "Botswana",
            "Burkina Faso",
            "Cabo Verde",
            "Cameroon",
            "Central African Republic",
            "Chad",
            "Congo",
            "Cote d'Ivoire",
            "Djibouti",
            "Egypt",
            "Ethiopia",
            "Gabon",
            "Gambia",
            "Ghana",
            "Guinea",
            "Guinea-Bissau",
            "Kenya",
            "Lesotho",
            "Liberia",
            "Madagascar",
            "Malawi",
            "Mali",
            "Mauritania",
            "Mauritius",
            "Morocco",
            "Mozambique",
            "Namibia",
            "Niger",
            "Nigeria",
            "Rwanda",
            "Sao Tome and Principe",
            "Senegal",
            "Sierra Leone",
            "South Africa",
            "Sudan",
            "Swaziland",
            "Togo",
            "Tunisia",
            "Uganda",
            "United Republic of Tanzania",
            "Zambia",
            "Zimbabwe"
           ],
           "name": "",
           "type": "choropleth",
           "z": [
            19820,
            22244,
            9235,
            484,
            9607,
            158,
            20729,
            2569,
            4516,
            2693,
            17351,
            68,
            90375,
            34508,
            1387,
            549,
            30647,
            6606,
            700,
            26049,
            339,
            1457,
            13928,
            16677,
            10853,
            953,
            5369,
            30354,
            14107,
            1359,
            7715,
            141270,
            9838,
            116,
            5689,
            5084,
            59590,
            31778,
            6128,
            3389,
            9731,
            24574,
            31828,
            8695,
            5754
           ]
          }
         ],
         "name": "2009"
        },
        {
         "data": [
          {
           "coloraxis": "coloraxis",
           "geo": "geo",
           "hovertemplate": "<b>%{hovertext}</b><br><br>Year=2010<br>Country=%{location}<br>Value=%{z}<extra></extra>",
           "hovertext": [
            "Algeria",
            "Angola",
            "Benin",
            "Botswana",
            "Burkina Faso",
            "Cabo Verde",
            "Cameroon",
            "Central African Republic",
            "Chad",
            "Congo",
            "Cote d'Ivoire",
            "Djibouti",
            "Egypt",
            "Ethiopia",
            "Gabon",
            "Gambia",
            "Ghana",
            "Guinea",
            "Guinea-Bissau",
            "Kenya",
            "Lesotho",
            "Liberia",
            "Madagascar",
            "Malawi",
            "Mali",
            "Mauritania",
            "Mauritius",
            "Morocco",
            "Mozambique",
            "Namibia",
            "Niger",
            "Nigeria",
            "Rwanda",
            "Sao Tome and Principe",
            "Senegal",
            "Sierra Leone",
            "South Africa",
            "Sudan",
            "Swaziland",
            "Togo",
            "Tunisia",
            "Uganda",
            "United Republic of Tanzania",
            "Zambia",
            "Zimbabwe"
           ],
           "locationmode": "country names",
           "locations": [
            "Algeria",
            "Angola",
            "Benin",
            "Botswana",
            "Burkina Faso",
            "Cabo Verde",
            "Cameroon",
            "Central African Republic",
            "Chad",
            "Congo",
            "Cote d'Ivoire",
            "Djibouti",
            "Egypt",
            "Ethiopia",
            "Gabon",
            "Gambia",
            "Ghana",
            "Guinea",
            "Guinea-Bissau",
            "Kenya",
            "Lesotho",
            "Liberia",
            "Madagascar",
            "Malawi",
            "Mali",
            "Mauritania",
            "Mauritius",
            "Morocco",
            "Mozambique",
            "Namibia",
            "Niger",
            "Nigeria",
            "Rwanda",
            "Sao Tome and Principe",
            "Senegal",
            "Sierra Leone",
            "South Africa",
            "Sudan",
            "Swaziland",
            "Togo",
            "Tunisia",
            "Uganda",
            "United Republic of Tanzania",
            "Zambia",
            "Zimbabwe"
           ],
           "name": "",
           "type": "choropleth",
           "z": [
            20263,
            23805,
            9200,
            503,
            11122,
            149,
            22310,
            2602,
            4633,
            2707,
            18363,
            75,
            88450,
            38707,
            1424,
            614,
            32140,
            6904,
            743,
            27991,
            451,
            1490,
            14215,
            16867,
            10671,
            1110,
            5060,
            28577,
            19611,
            1422,
            10576,
            158709,
            10780,
            114,
            5737,
            5783,
            56863,
            28568,
            6157,
            3424,
            8854,
            25850,
            36006,
            10089,
            6777
           ]
          }
         ],
         "name": "2010"
        },
        {
         "data": [
          {
           "coloraxis": "coloraxis",
           "geo": "geo",
           "hovertemplate": "<b>%{hovertext}</b><br><br>Year=2011<br>Country=%{location}<br>Value=%{z}<extra></extra>",
           "hovertext": [
            "Algeria",
            "Angola",
            "Benin",
            "Botswana",
            "Burkina Faso",
            "Cabo Verde",
            "Cameroon",
            "Central African Republic",
            "Chad",
            "Congo",
            "Cote d'Ivoire",
            "Djibouti",
            "Egypt",
            "Ethiopia",
            "Gabon",
            "Gambia",
            "Ghana",
            "Guinea",
            "Guinea-Bissau",
            "Kenya",
            "Lesotho",
            "Liberia",
            "Madagascar",
            "Malawi",
            "Mali",
            "Mauritania",
            "Mauritius",
            "Morocco",
            "Mozambique",
            "Namibia",
            "Niger",
            "Nigeria",
            "Rwanda",
            "Sao Tome and Principe",
            "Senegal",
            "Sierra Leone",
            "South Africa",
            "Sudan",
            "Swaziland",
            "Togo",
            "Tunisia",
            "Uganda",
            "United Republic of Tanzania",
            "Zambia",
            "Zimbabwe"
           ],
           "locationmode": "country names",
           "locations": [
            "Algeria",
            "Angola",
            "Benin",
            "Botswana",
            "Burkina Faso",
            "Cabo Verde",
            "Cameroon",
            "Central African Republic",
            "Chad",
            "Congo",
            "Cote d'Ivoire",
            "Djibouti",
            "Egypt",
            "Ethiopia",
            "Gabon",
            "Gambia",
            "Ghana",
            "Guinea",
            "Guinea-Bissau",
            "Kenya",
            "Lesotho",
            "Liberia",
            "Madagascar",
            "Malawi",
            "Mali",
            "Mauritania",
            "Mauritius",
            "Morocco",
            "Mozambique",
            "Namibia",
            "Niger",
            "Nigeria",
            "Rwanda",
            "Sao Tome and Principe",
            "Senegal",
            "Sierra Leone",
            "South Africa",
            "Sudan",
            "Swaziland",
            "Togo",
            "Tunisia",
            "Uganda",
            "United Republic of Tanzania",
            "Zambia",
            "Zimbabwe"
           ],
           "name": "",
           "type": "choropleth",
           "z": [
            21778,
            25672,
            9735,
            539,
            9954,
            181,
            22964,
            2702,
            4070,
            2745,
            18918,
            72,
            90767,
            39573,
            1443,
            411,
            33650,
            7084,
            807,
            26605,
            397,
            1535,
            14735,
            17569,
            10773,
            1024,
            4911,
            30978,
            20976,
            1457,
            8923,
            167403,
            11777,
            107,
            4613,
            6083,
            56788,
            30869,
            6221,
            3605,
            9790,
            25704,
            38424,
            10331,
            7551
           ]
          }
         ],
         "name": "2011"
        },
        {
         "data": [
          {
           "coloraxis": "coloraxis",
           "geo": "geo",
           "hovertemplate": "<b>%{hovertext}</b><br><br>Year=2012<br>Country=%{location}<br>Value=%{z}<extra></extra>",
           "hovertext": [
            "Algeria",
            "Angola",
            "Benin",
            "Botswana",
            "Burkina Faso",
            "Cabo Verde",
            "Cameroon",
            "Central African Republic",
            "Chad",
            "Congo",
            "Cote d'Ivoire",
            "Djibouti",
            "Egypt",
            "Ethiopia",
            "Gabon",
            "Gambia",
            "Ghana",
            "Guinea",
            "Guinea-Bissau",
            "Kenya",
            "Lesotho",
            "Liberia",
            "Madagascar",
            "Malawi",
            "Mali",
            "Mauritania",
            "Mauritius",
            "Morocco",
            "Mozambique",
            "Namibia",
            "Niger",
            "Nigeria",
            "Rwanda",
            "Sao Tome and Principe",
            "Senegal",
            "Sierra Leone",
            "South Africa",
            "Sudan",
            "Swaziland",
            "Togo",
            "Tunisia",
            "Uganda",
            "United Republic of Tanzania",
            "Zambia",
            "Zimbabwe"
           ],
           "locationmode": "country names",
           "locations": [
            "Algeria",
            "Angola",
            "Benin",
            "Botswana",
            "Burkina Faso",
            "Cabo Verde",
            "Cameroon",
            "Central African Republic",
            "Chad",
            "Congo",
            "Cote d'Ivoire",
            "Djibouti",
            "Egypt",
            "Ethiopia",
            "Gabon",
            "Gambia",
            "Ghana",
            "Guinea",
            "Guinea-Bissau",
            "Kenya",
            "Lesotho",
            "Liberia",
            "Madagascar",
            "Malawi",
            "Mali",
            "Mauritania",
            "Mauritius",
            "Morocco",
            "Mozambique",
            "Namibia",
            "Niger",
            "Nigeria",
            "Rwanda",
            "Sao Tome and Principe",
            "Senegal",
            "Sierra Leone",
            "South Africa",
            "Sudan",
            "Swaziland",
            "Togo",
            "Tunisia",
            "Uganda",
            "United Republic of Tanzania",
            "Zambia",
            "Zimbabwe"
           ],
           "name": "",
           "type": "choropleth",
           "z": [
            24206,
            20505,
            9797,
            496,
            11634,
            187,
            24044,
            2761,
            5688,
            2786,
            19919,
            77,
            96139,
            44142,
            1474,
            465,
            34860,
            7458,
            787,
            28851,
            352,
            1522,
            15343,
            19074,
            11486,
            1182,
            4610,
            26236,
            19939,
            1522,
            10719,
            178816,
            12523,
            111,
            5237,
            6228,
            59581,
            26373,
            6670,
            3848,
            10509,
            25711,
            38956,
            10670,
            8173
           ]
          }
         ],
         "name": "2012"
        },
        {
         "data": [
          {
           "coloraxis": "coloraxis",
           "geo": "geo",
           "hovertemplate": "<b>%{hovertext}</b><br><br>Year=2013<br>Country=%{location}<br>Value=%{z}<extra></extra>",
           "hovertext": [
            "Algeria",
            "Angola",
            "Benin",
            "Botswana",
            "Burkina Faso",
            "Cabo Verde",
            "Cameroon",
            "Central African Republic",
            "Chad",
            "Congo",
            "Cote d'Ivoire",
            "Djibouti",
            "Egypt",
            "Ethiopia",
            "Gabon",
            "Gambia",
            "Ghana",
            "Guinea",
            "Guinea-Bissau",
            "Kenya",
            "Lesotho",
            "Liberia",
            "Madagascar",
            "Malawi",
            "Mali",
            "Mauritania",
            "Mauritius",
            "Morocco",
            "Mozambique",
            "Namibia",
            "Niger",
            "Nigeria",
            "Rwanda",
            "Sao Tome and Principe",
            "Senegal",
            "Sierra Leone",
            "South Africa",
            "Sudan",
            "Swaziland",
            "Togo",
            "Tunisia",
            "Uganda",
            "United Republic of Tanzania",
            "Zambia",
            "Zimbabwe"
           ],
           "locationmode": "country names",
           "locations": [
            "Algeria",
            "Angola",
            "Benin",
            "Botswana",
            "Burkina Faso",
            "Cabo Verde",
            "Cameroon",
            "Central African Republic",
            "Chad",
            "Congo",
            "Cote d'Ivoire",
            "Djibouti",
            "Egypt",
            "Ethiopia",
            "Gabon",
            "Gambia",
            "Ghana",
            "Guinea",
            "Guinea-Bissau",
            "Kenya",
            "Lesotho",
            "Liberia",
            "Madagascar",
            "Malawi",
            "Mali",
            "Mauritania",
            "Mauritius",
            "Morocco",
            "Mozambique",
            "Namibia",
            "Niger",
            "Nigeria",
            "Rwanda",
            "Sao Tome and Principe",
            "Senegal",
            "Sierra Leone",
            "South Africa",
            "Sudan",
            "Swaziland",
            "Togo",
            "Tunisia",
            "Uganda",
            "United Republic of Tanzania",
            "Zambia",
            "Zimbabwe"
           ],
           "name": "",
           "type": "choropleth",
           "z": [
            26359,
            28857,
            10866,
            502,
            11864,
            192,
            24773,
            2503,
            5153,
            2968,
            20420,
            76,
            95848,
            46102,
            1521,
            457,
            36589,
            7735,
            835,
            28950,
            418,
            1533,
            14160,
            19931,
            10596,
            1151,
            4472,
            31496,
            20742,
            1468,
            10026,
            179631,
            12952,
            130,
            4972,
            6548,
            63263,
            30727,
            6763,
            3463,
            9949,
            26321,
            40849,
            10526,
            7914
           ]
          }
         ],
         "name": "2013"
        }
       ],
       "layout": {
        "coloraxis": {
         "colorbar": {
          "title": {
           "text": "Value"
          }
         },
         "colorscale": [
          [
           0,
           "#0d0887"
          ],
          [
           0.1111111111111111,
           "#46039f"
          ],
          [
           0.2222222222222222,
           "#7201a8"
          ],
          [
           0.3333333333333333,
           "#9c179e"
          ],
          [
           0.4444444444444444,
           "#bd3786"
          ],
          [
           0.5555555555555556,
           "#d8576b"
          ],
          [
           0.6666666666666666,
           "#ed7953"
          ],
          [
           0.7777777777777778,
           "#fb9f3a"
          ],
          [
           0.8888888888888888,
           "#fdca26"
          ],
          [
           1,
           "#f0f921"
          ]
         ]
        },
        "geo": {
         "center": {},
         "domain": {
          "x": [
           0,
           1
          ],
          "y": [
           0,
           1
          ]
         },
         "scope": "africa"
        },
        "legend": {
         "tracegroupgap": 0
        },
        "sliders": [
         {
          "active": 0,
          "currentvalue": {
           "prefix": "Year="
          },
          "len": 0.9,
          "pad": {
           "b": 10,
           "t": 60
          },
          "steps": [
           {
            "args": [
             [
              "2004"
             ],
             {
              "frame": {
               "duration": 0,
               "redraw": true
              },
              "fromcurrent": true,
              "mode": "immediate",
              "transition": {
               "duration": 0,
               "easing": "linear"
              }
             }
            ],
            "label": "2004",
            "method": "animate"
           },
           {
            "args": [
             [
              "2005"
             ],
             {
              "frame": {
               "duration": 0,
               "redraw": true
              },
              "fromcurrent": true,
              "mode": "immediate",
              "transition": {
               "duration": 0,
               "easing": "linear"
              }
             }
            ],
            "label": "2005",
            "method": "animate"
           },
           {
            "args": [
             [
              "2006"
             ],
             {
              "frame": {
               "duration": 0,
               "redraw": true
              },
              "fromcurrent": true,
              "mode": "immediate",
              "transition": {
               "duration": 0,
               "easing": "linear"
              }
             }
            ],
            "label": "2006",
            "method": "animate"
           },
           {
            "args": [
             [
              "2007"
             ],
             {
              "frame": {
               "duration": 0,
               "redraw": true
              },
              "fromcurrent": true,
              "mode": "immediate",
              "transition": {
               "duration": 0,
               "easing": "linear"
              }
             }
            ],
            "label": "2007",
            "method": "animate"
           },
           {
            "args": [
             [
              "2008"
             ],
             {
              "frame": {
               "duration": 0,
               "redraw": true
              },
              "fromcurrent": true,
              "mode": "immediate",
              "transition": {
               "duration": 0,
               "easing": "linear"
              }
             }
            ],
            "label": "2008",
            "method": "animate"
           },
           {
            "args": [
             [
              "2009"
             ],
             {
              "frame": {
               "duration": 0,
               "redraw": true
              },
              "fromcurrent": true,
              "mode": "immediate",
              "transition": {
               "duration": 0,
               "easing": "linear"
              }
             }
            ],
            "label": "2009",
            "method": "animate"
           },
           {
            "args": [
             [
              "2010"
             ],
             {
              "frame": {
               "duration": 0,
               "redraw": true
              },
              "fromcurrent": true,
              "mode": "immediate",
              "transition": {
               "duration": 0,
               "easing": "linear"
              }
             }
            ],
            "label": "2010",
            "method": "animate"
           },
           {
            "args": [
             [
              "2011"
             ],
             {
              "frame": {
               "duration": 0,
               "redraw": true
              },
              "fromcurrent": true,
              "mode": "immediate",
              "transition": {
               "duration": 0,
               "easing": "linear"
              }
             }
            ],
            "label": "2011",
            "method": "animate"
           },
           {
            "args": [
             [
              "2012"
             ],
             {
              "frame": {
               "duration": 0,
               "redraw": true
              },
              "fromcurrent": true,
              "mode": "immediate",
              "transition": {
               "duration": 0,
               "easing": "linear"
              }
             }
            ],
            "label": "2012",
            "method": "animate"
           },
           {
            "args": [
             [
              "2013"
             ],
             {
              "frame": {
               "duration": 0,
               "redraw": true
              },
              "fromcurrent": true,
              "mode": "immediate",
              "transition": {
               "duration": 0,
               "easing": "linear"
              }
             }
            ],
            "label": "2013",
            "method": "animate"
           }
          ],
          "x": 0.1,
          "xanchor": "left",
          "y": 0,
          "yanchor": "top"
         }
        ],
        "template": {
         "data": {
          "bar": [
           {
            "error_x": {
             "color": "#2a3f5f"
            },
            "error_y": {
             "color": "#2a3f5f"
            },
            "marker": {
             "line": {
              "color": "#E5ECF6",
              "width": 0.5
             }
            },
            "type": "bar"
           }
          ],
          "barpolar": [
           {
            "marker": {
             "line": {
              "color": "#E5ECF6",
              "width": 0.5
             }
            },
            "type": "barpolar"
           }
          ],
          "carpet": [
           {
            "aaxis": {
             "endlinecolor": "#2a3f5f",
             "gridcolor": "white",
             "linecolor": "white",
             "minorgridcolor": "white",
             "startlinecolor": "#2a3f5f"
            },
            "baxis": {
             "endlinecolor": "#2a3f5f",
             "gridcolor": "white",
             "linecolor": "white",
             "minorgridcolor": "white",
             "startlinecolor": "#2a3f5f"
            },
            "type": "carpet"
           }
          ],
          "choropleth": [
           {
            "colorbar": {
             "outlinewidth": 0,
             "ticks": ""
            },
            "type": "choropleth"
           }
          ],
          "contour": [
           {
            "colorbar": {
             "outlinewidth": 0,
             "ticks": ""
            },
            "colorscale": [
             [
              0,
              "#0d0887"
             ],
             [
              0.1111111111111111,
              "#46039f"
             ],
             [
              0.2222222222222222,
              "#7201a8"
             ],
             [
              0.3333333333333333,
              "#9c179e"
             ],
             [
              0.4444444444444444,
              "#bd3786"
             ],
             [
              0.5555555555555556,
              "#d8576b"
             ],
             [
              0.6666666666666666,
              "#ed7953"
             ],
             [
              0.7777777777777778,
              "#fb9f3a"
             ],
             [
              0.8888888888888888,
              "#fdca26"
             ],
             [
              1,
              "#f0f921"
             ]
            ],
            "type": "contour"
           }
          ],
          "contourcarpet": [
           {
            "colorbar": {
             "outlinewidth": 0,
             "ticks": ""
            },
            "type": "contourcarpet"
           }
          ],
          "heatmap": [
           {
            "colorbar": {
             "outlinewidth": 0,
             "ticks": ""
            },
            "colorscale": [
             [
              0,
              "#0d0887"
             ],
             [
              0.1111111111111111,
              "#46039f"
             ],
             [
              0.2222222222222222,
              "#7201a8"
             ],
             [
              0.3333333333333333,
              "#9c179e"
             ],
             [
              0.4444444444444444,
              "#bd3786"
             ],
             [
              0.5555555555555556,
              "#d8576b"
             ],
             [
              0.6666666666666666,
              "#ed7953"
             ],
             [
              0.7777777777777778,
              "#fb9f3a"
             ],
             [
              0.8888888888888888,
              "#fdca26"
             ],
             [
              1,
              "#f0f921"
             ]
            ],
            "type": "heatmap"
           }
          ],
          "heatmapgl": [
           {
            "colorbar": {
             "outlinewidth": 0,
             "ticks": ""
            },
            "colorscale": [
             [
              0,
              "#0d0887"
             ],
             [
              0.1111111111111111,
              "#46039f"
             ],
             [
              0.2222222222222222,
              "#7201a8"
             ],
             [
              0.3333333333333333,
              "#9c179e"
             ],
             [
              0.4444444444444444,
              "#bd3786"
             ],
             [
              0.5555555555555556,
              "#d8576b"
             ],
             [
              0.6666666666666666,
              "#ed7953"
             ],
             [
              0.7777777777777778,
              "#fb9f3a"
             ],
             [
              0.8888888888888888,
              "#fdca26"
             ],
             [
              1,
              "#f0f921"
             ]
            ],
            "type": "heatmapgl"
           }
          ],
          "histogram": [
           {
            "marker": {
             "colorbar": {
              "outlinewidth": 0,
              "ticks": ""
             }
            },
            "type": "histogram"
           }
          ],
          "histogram2d": [
           {
            "colorbar": {
             "outlinewidth": 0,
             "ticks": ""
            },
            "colorscale": [
             [
              0,
              "#0d0887"
             ],
             [
              0.1111111111111111,
              "#46039f"
             ],
             [
              0.2222222222222222,
              "#7201a8"
             ],
             [
              0.3333333333333333,
              "#9c179e"
             ],
             [
              0.4444444444444444,
              "#bd3786"
             ],
             [
              0.5555555555555556,
              "#d8576b"
             ],
             [
              0.6666666666666666,
              "#ed7953"
             ],
             [
              0.7777777777777778,
              "#fb9f3a"
             ],
             [
              0.8888888888888888,
              "#fdca26"
             ],
             [
              1,
              "#f0f921"
             ]
            ],
            "type": "histogram2d"
           }
          ],
          "histogram2dcontour": [
           {
            "colorbar": {
             "outlinewidth": 0,
             "ticks": ""
            },
            "colorscale": [
             [
              0,
              "#0d0887"
             ],
             [
              0.1111111111111111,
              "#46039f"
             ],
             [
              0.2222222222222222,
              "#7201a8"
             ],
             [
              0.3333333333333333,
              "#9c179e"
             ],
             [
              0.4444444444444444,
              "#bd3786"
             ],
             [
              0.5555555555555556,
              "#d8576b"
             ],
             [
              0.6666666666666666,
              "#ed7953"
             ],
             [
              0.7777777777777778,
              "#fb9f3a"
             ],
             [
              0.8888888888888888,
              "#fdca26"
             ],
             [
              1,
              "#f0f921"
             ]
            ],
            "type": "histogram2dcontour"
           }
          ],
          "mesh3d": [
           {
            "colorbar": {
             "outlinewidth": 0,
             "ticks": ""
            },
            "type": "mesh3d"
           }
          ],
          "parcoords": [
           {
            "line": {
             "colorbar": {
              "outlinewidth": 0,
              "ticks": ""
             }
            },
            "type": "parcoords"
           }
          ],
          "pie": [
           {
            "automargin": true,
            "type": "pie"
           }
          ],
          "scatter": [
           {
            "marker": {
             "colorbar": {
              "outlinewidth": 0,
              "ticks": ""
             }
            },
            "type": "scatter"
           }
          ],
          "scatter3d": [
           {
            "line": {
             "colorbar": {
              "outlinewidth": 0,
              "ticks": ""
             }
            },
            "marker": {
             "colorbar": {
              "outlinewidth": 0,
              "ticks": ""
             }
            },
            "type": "scatter3d"
           }
          ],
          "scattercarpet": [
           {
            "marker": {
             "colorbar": {
              "outlinewidth": 0,
              "ticks": ""
             }
            },
            "type": "scattercarpet"
           }
          ],
          "scattergeo": [
           {
            "marker": {
             "colorbar": {
              "outlinewidth": 0,
              "ticks": ""
             }
            },
            "type": "scattergeo"
           }
          ],
          "scattergl": [
           {
            "marker": {
             "colorbar": {
              "outlinewidth": 0,
              "ticks": ""
             }
            },
            "type": "scattergl"
           }
          ],
          "scattermapbox": [
           {
            "marker": {
             "colorbar": {
              "outlinewidth": 0,
              "ticks": ""
             }
            },
            "type": "scattermapbox"
           }
          ],
          "scatterpolar": [
           {
            "marker": {
             "colorbar": {
              "outlinewidth": 0,
              "ticks": ""
             }
            },
            "type": "scatterpolar"
           }
          ],
          "scatterpolargl": [
           {
            "marker": {
             "colorbar": {
              "outlinewidth": 0,
              "ticks": ""
             }
            },
            "type": "scatterpolargl"
           }
          ],
          "scatterternary": [
           {
            "marker": {
             "colorbar": {
              "outlinewidth": 0,
              "ticks": ""
             }
            },
            "type": "scatterternary"
           }
          ],
          "surface": [
           {
            "colorbar": {
             "outlinewidth": 0,
             "ticks": ""
            },
            "colorscale": [
             [
              0,
              "#0d0887"
             ],
             [
              0.1111111111111111,
              "#46039f"
             ],
             [
              0.2222222222222222,
              "#7201a8"
             ],
             [
              0.3333333333333333,
              "#9c179e"
             ],
             [
              0.4444444444444444,
              "#bd3786"
             ],
             [
              0.5555555555555556,
              "#d8576b"
             ],
             [
              0.6666666666666666,
              "#ed7953"
             ],
             [
              0.7777777777777778,
              "#fb9f3a"
             ],
             [
              0.8888888888888888,
              "#fdca26"
             ],
             [
              1,
              "#f0f921"
             ]
            ],
            "type": "surface"
           }
          ],
          "table": [
           {
            "cells": {
             "fill": {
              "color": "#EBF0F8"
             },
             "line": {
              "color": "white"
             }
            },
            "header": {
             "fill": {
              "color": "#C8D4E3"
             },
             "line": {
              "color": "white"
             }
            },
            "type": "table"
           }
          ]
         },
         "layout": {
          "annotationdefaults": {
           "arrowcolor": "#2a3f5f",
           "arrowhead": 0,
           "arrowwidth": 1
          },
          "coloraxis": {
           "colorbar": {
            "outlinewidth": 0,
            "ticks": ""
           }
          },
          "colorscale": {
           "diverging": [
            [
             0,
             "#8e0152"
            ],
            [
             0.1,
             "#c51b7d"
            ],
            [
             0.2,
             "#de77ae"
            ],
            [
             0.3,
             "#f1b6da"
            ],
            [
             0.4,
             "#fde0ef"
            ],
            [
             0.5,
             "#f7f7f7"
            ],
            [
             0.6,
             "#e6f5d0"
            ],
            [
             0.7,
             "#b8e186"
            ],
            [
             0.8,
             "#7fbc41"
            ],
            [
             0.9,
             "#4d9221"
            ],
            [
             1,
             "#276419"
            ]
           ],
           "sequential": [
            [
             0,
             "#0d0887"
            ],
            [
             0.1111111111111111,
             "#46039f"
            ],
            [
             0.2222222222222222,
             "#7201a8"
            ],
            [
             0.3333333333333333,
             "#9c179e"
            ],
            [
             0.4444444444444444,
             "#bd3786"
            ],
            [
             0.5555555555555556,
             "#d8576b"
            ],
            [
             0.6666666666666666,
             "#ed7953"
            ],
            [
             0.7777777777777778,
             "#fb9f3a"
            ],
            [
             0.8888888888888888,
             "#fdca26"
            ],
            [
             1,
             "#f0f921"
            ]
           ],
           "sequentialminus": [
            [
             0,
             "#0d0887"
            ],
            [
             0.1111111111111111,
             "#46039f"
            ],
            [
             0.2222222222222222,
             "#7201a8"
            ],
            [
             0.3333333333333333,
             "#9c179e"
            ],
            [
             0.4444444444444444,
             "#bd3786"
            ],
            [
             0.5555555555555556,
             "#d8576b"
            ],
            [
             0.6666666666666666,
             "#ed7953"
            ],
            [
             0.7777777777777778,
             "#fb9f3a"
            ],
            [
             0.8888888888888888,
             "#fdca26"
            ],
            [
             1,
             "#f0f921"
            ]
           ]
          },
          "colorway": [
           "#636efa",
           "#EF553B",
           "#00cc96",
           "#ab63fa",
           "#FFA15A",
           "#19d3f3",
           "#FF6692",
           "#B6E880",
           "#FF97FF",
           "#FECB52"
          ],
          "font": {
           "color": "#2a3f5f"
          },
          "geo": {
           "bgcolor": "white",
           "lakecolor": "white",
           "landcolor": "#E5ECF6",
           "showlakes": true,
           "showland": true,
           "subunitcolor": "white"
          },
          "hoverlabel": {
           "align": "left"
          },
          "hovermode": "closest",
          "mapbox": {
           "style": "light"
          },
          "paper_bgcolor": "white",
          "plot_bgcolor": "#E5ECF6",
          "polar": {
           "angularaxis": {
            "gridcolor": "white",
            "linecolor": "white",
            "ticks": ""
           },
           "bgcolor": "#E5ECF6",
           "radialaxis": {
            "gridcolor": "white",
            "linecolor": "white",
            "ticks": ""
           }
          },
          "scene": {
           "xaxis": {
            "backgroundcolor": "#E5ECF6",
            "gridcolor": "white",
            "gridwidth": 2,
            "linecolor": "white",
            "showbackground": true,
            "ticks": "",
            "zerolinecolor": "white"
           },
           "yaxis": {
            "backgroundcolor": "#E5ECF6",
            "gridcolor": "white",
            "gridwidth": 2,
            "linecolor": "white",
            "showbackground": true,
            "ticks": "",
            "zerolinecolor": "white"
           },
           "zaxis": {
            "backgroundcolor": "#E5ECF6",
            "gridcolor": "white",
            "gridwidth": 2,
            "linecolor": "white",
            "showbackground": true,
            "ticks": "",
            "zerolinecolor": "white"
           }
          },
          "shapedefaults": {
           "line": {
            "color": "#2a3f5f"
           }
          },
          "ternary": {
           "aaxis": {
            "gridcolor": "white",
            "linecolor": "white",
            "ticks": ""
           },
           "baxis": {
            "gridcolor": "white",
            "linecolor": "white",
            "ticks": ""
           },
           "bgcolor": "#E5ECF6",
           "caxis": {
            "gridcolor": "white",
            "linecolor": "white",
            "ticks": ""
           }
          },
          "title": {
           "x": 0.05
          },
          "xaxis": {
           "automargin": true,
           "gridcolor": "white",
           "linecolor": "white",
           "ticks": "",
           "title": {
            "standoff": 15
           },
           "zerolinecolor": "white",
           "zerolinewidth": 2
          },
          "yaxis": {
           "automargin": true,
           "gridcolor": "white",
           "linecolor": "white",
           "ticks": "",
           "title": {
            "standoff": 15
           },
           "zerolinecolor": "white",
           "zerolinewidth": 2
          }
         }
        },
        "title": {
         "text": "Food Production by Country"
        },
        "updatemenus": [
         {
          "buttons": [
           {
            "args": [
             null,
             {
              "frame": {
               "duration": 500,
               "redraw": true
              },
              "fromcurrent": true,
              "mode": "immediate",
              "transition": {
               "duration": 500,
               "easing": "linear"
              }
             }
            ],
            "label": "&#9654;",
            "method": "animate"
           },
           {
            "args": [
             [
              null
             ],
             {
              "frame": {
               "duration": 0,
               "redraw": true
              },
              "fromcurrent": true,
              "mode": "immediate",
              "transition": {
               "duration": 0,
               "easing": "linear"
              }
             }
            ],
            "label": "&#9724;",
            "method": "animate"
           }
          ],
          "direction": "left",
          "pad": {
           "r": 10,
           "t": 70
          },
          "showactive": false,
          "type": "buttons",
          "x": 0.1,
          "xanchor": "right",
          "y": 0,
          "yanchor": "top"
         }
        ]
       }
      }
     },
     "metadata": {},
     "output_type": "display_data"
    }
   ],
   "source": [
    "foodproduc_df['Year'] = pd.to_datetime(foodproduc_df['Year'], format='%Y-%m-%d')\n",
    "foodproduc_df['Year'] = foodproduc_df['Year'].dt.strftime('%Y')\n",
    "\n",
    "\n",
    "# Plot the choropleth map\n",
    "foodproddatasetmap = px.choropleth(\n",
    "    foodproduc_df,\n",
    "    locations=\"Country\",\n",
    "    locationmode='country names',\n",
    "    color=\"Value\",\n",
    "    hover_name=\"Country\",\n",
    "    animation_frame='Year',  # Use the formatted Year column for animation\n",
    "    scope='africa',\n",
    "    title='Food Production by Country'\n",
    ")\n",
    "\n",
    "foodproddatasetmap.show()"
   ]
  },
  {
   "cell_type": "markdown",
   "metadata": {},
   "source": [
    "## `Deliverable 1.b: A Trend in food supply over the years.`\n",
    "\n",
    "* Here, I used a line graph to demonstrate the trend in food consumption over the years"
   ]
  },
  {
   "cell_type": "code",
   "execution_count": 65,
   "metadata": {},
   "outputs": [
    {
     "name": "stderr",
     "output_type": "stream",
     "text": [
      "<ipython-input-65-9e29754051d7>:4: MatplotlibDeprecationWarning:\n",
      "\n",
      "Case-insensitive properties were deprecated in 3.3 and support will be removed two minor releases later\n",
      "\n"
     ]
    },
    {
     "data": {
      "image/png": "[encoded data removed]",
      "text/plain": [
       "<Figure size 1224x1224 with 1 Axes>"
      ]
     },
     "metadata": {},
     "output_type": "display_data"
    }
   ],
   "source": [
    "sns.set(rc = {'figure.figsize':(17,17)})\n",
    "supplydatasetlp = sns.lineplot(x  ='Year', y = 'Value', hue = 'Country', palette = 'dark', data = food_supply_df, legend=False)\n",
    "supplydatasetlp.set(yscale = 'log')\n",
    "supplydatasetlp.set(Title =  'A Trend in Food Supplying Countries')\n",
    "\n",
    "# Adding the country names on the lines\n",
    "for line, label in zip(supplydatasetlp.lines, food_supply_df['Country'].unique()):\n",
    "    x_data, y_data = line.get_xydata().T\n",
    "    if x_data.size > 0:\n",
    "        plt.text(x_data[-1], y_data[-1], label, color=line.get_color(), fontsize=9, ha='left', va='center')\n",
    "\n",
    "plt.show()"
   ]
  },
  {
   "cell_type": "markdown",
   "metadata": {},
   "source": [
    "`Observations:`\n",
    "\n",
    "* We can clearly see that the top 3 countries leading in food supply over the years are : Egypt, Morocco and Tunisia.\n",
    "  \n",
    "* The bottom 3 countries when it comes to food supply in Africa over the years are : Central African Republic, Zambia and Madagascar.\n",
    "\n",
    "* Egypt, Morocco, and Tunisia have consistently led in food supply in Africa, benefiting from favorable geographic conditions, advanced agricultural practices, government support, and technological advancements.\n",
    "  \n",
    "* Egypt's mastery of Nile River resources, Morocco's commitment to modernizing agriculture, and Tunisia's strategic policies have positioned them as key contributors to the continent's food supply.\n",
    "  \n",
    "* The Central African Republic, Zambia, and Madagascar face challenges in food supply, possibly influenced by factors such as geopolitical issues, economic challenges, climate variability, and limited access to modern farming practices.\n",
    "  \n",
    "* Geopolitical instability, economic challenges, and susceptibility to natural disasters are among the factors impacting the agricultural sectors of the Central African Republic, Zambia, and Madagascar."
   ]
  },
  {
   "cell_type": "markdown",
   "metadata": {},
   "source": [
    "### `Food Supply Over the Years`"
   ]
  },
  {
   "cell_type": "code",
   "execution_count": 80,
   "metadata": {},
   "outputs": [],
   "source": [
    "food_supply_df['Year'] = pd.to_datetime(food_supply_df['Year']).dt.year"
   ]
  },
  {
   "cell_type": "code",
   "execution_count": 88,
   "metadata": {},
   "outputs": [
    {
     "data": {
      "text/html": [
       "<div>\n",
       "<style scoped>\n",
       "    .dataframe tbody tr th:only-of-type {\n",
       "        vertical-align: middle;\n",
       "    }\n",
       "\n",
       "    .dataframe tbody tr th {\n",
       "        vertical-align: top;\n",
       "    }\n",
       "\n",
       "    .dataframe thead th {\n",
       "        text-align: right;\n",
       "    }\n",
       "</style>\n",
       "<table border=\"1\" class=\"dataframe\">\n",
       "  <thead>\n",
       "    <tr style=\"text-align: right;\">\n",
       "      <th></th>\n",
       "      <th>Year</th>\n",
       "      <th>Value</th>\n",
       "    </tr>\n",
       "  </thead>\n",
       "  <tbody>\n",
       "    <tr>\n",
       "      <th>0</th>\n",
       "      <td>2004</td>\n",
       "      <td>107740</td>\n",
       "    </tr>\n",
       "    <tr>\n",
       "      <th>1</th>\n",
       "      <td>2005</td>\n",
       "      <td>108418</td>\n",
       "    </tr>\n",
       "    <tr>\n",
       "      <th>2</th>\n",
       "      <td>2006</td>\n",
       "      <td>109386</td>\n",
       "    </tr>\n",
       "    <tr>\n",
       "      <th>3</th>\n",
       "      <td>2007</td>\n",
       "      <td>110149</td>\n",
       "    </tr>\n",
       "    <tr>\n",
       "      <th>4</th>\n",
       "      <td>2008</td>\n",
       "      <td>110734</td>\n",
       "    </tr>\n",
       "    <tr>\n",
       "      <th>5</th>\n",
       "      <td>2009</td>\n",
       "      <td>111700</td>\n",
       "    </tr>\n",
       "    <tr>\n",
       "      <th>6</th>\n",
       "      <td>2010</td>\n",
       "      <td>112383</td>\n",
       "    </tr>\n",
       "    <tr>\n",
       "      <th>7</th>\n",
       "      <td>2011</td>\n",
       "      <td>113194</td>\n",
       "    </tr>\n",
       "    <tr>\n",
       "      <th>8</th>\n",
       "      <td>2012</td>\n",
       "      <td>113744</td>\n",
       "    </tr>\n",
       "    <tr>\n",
       "      <th>9</th>\n",
       "      <td>2013</td>\n",
       "      <td>113951</td>\n",
       "    </tr>\n",
       "  </tbody>\n",
       "</table>\n",
       "</div>"
      ],
      "text/plain": [
       "   Year   Value\n",
       "0  2004  107740\n",
       "1  2005  108418\n",
       "2  2006  109386\n",
       "3  2007  110149\n",
       "4  2008  110734\n",
       "5  2009  111700\n",
       "6  2010  112383\n",
       "7  2011  113194\n",
       "8  2012  113744\n",
       "9  2013  113951"
      ]
     },
     "execution_count": 88,
     "metadata": {},
     "output_type": "execute_result"
    }
   ],
   "source": [
    "new_supply_df= pd.DataFrame(food_supply_df.groupby(['Year'])['Value'].sum().reset_index())\n",
    "new_supply_df"
   ]
  },
  {
   "cell_type": "code",
   "execution_count": 89,
   "metadata": {},
   "outputs": [
    {
     "data": {
      "image/png": "[encoded data removed]",
      "text/plain": [
       "<Figure size 864x576 with 1 Axes>"
      ]
     },
     "metadata": {},
     "output_type": "display_data"
    }
   ],
   "source": [
    "plt.figure(figsize=(12, 8))\n",
    "sns.barplot(x='Year', y='Value', data=new_supply_df, ci=None)  # Set ci=None to remove error bars\n",
    "plt.title('Food Supply Across Different Years')\n",
    "plt.xlabel('Year')\n",
    "plt.ylabel('Food Supply Value')\n",
    "plt.xticks(rotation=45)\n",
    "\n",
    "plt.show()"
   ]
  },
  {
   "cell_type": "markdown",
   "metadata": {},
   "source": [
    "`Observation:`\n",
    "\n",
    "* The supply of food has demonstrated a consistent upward trend over the years, with quantities increasing from 107,740 units in 2004 to a peak of 113,951 units in 2013. \n",
    "\n",
    "\n",
    "* This progressive growth suggests positive developments in agricultural practices, technological advancements, or improvements in the distribution and logistics of food resources. \n",
    "\n",
    "* The observed trend indicates a promising trajectory in ensuring sustained and efficient food supply chains, highlighting the potential impact of various factors contributing to increased food availability."
   ]
  },
  {
   "cell_type": "markdown",
   "metadata": {},
   "source": [
    "### `Deliverable 2: Average and median food production, the outliers, Quartile and interquartile ranges. (preferably a Boxplot) `"
   ]
  },
  {
   "cell_type": "markdown",
   "metadata": {},
   "source": [
    "### 1. Calculating the average of food production using the Year"
   ]
  },
  {
   "cell_type": "code",
   "execution_count": 96,
   "metadata": {},
   "outputs": [
    {
     "data": {
      "text/html": [
       "<div>\n",
       "<style scoped>\n",
       "    .dataframe tbody tr th:only-of-type {\n",
       "        vertical-align: middle;\n",
       "    }\n",
       "\n",
       "    .dataframe tbody tr th {\n",
       "        vertical-align: top;\n",
       "    }\n",
       "\n",
       "    .dataframe thead th {\n",
       "        text-align: right;\n",
       "    }\n",
       "</style>\n",
       "<table border=\"1\" class=\"dataframe\">\n",
       "  <thead>\n",
       "    <tr style=\"text-align: right;\">\n",
       "      <th></th>\n",
       "      <th>Year</th>\n",
       "      <th>Value</th>\n",
       "    </tr>\n",
       "  </thead>\n",
       "  <tbody>\n",
       "    <tr>\n",
       "      <th>0</th>\n",
       "      <td>2004</td>\n",
       "      <td>14733.466667</td>\n",
       "    </tr>\n",
       "    <tr>\n",
       "      <th>1</th>\n",
       "      <td>2005</td>\n",
       "      <td>15361.266667</td>\n",
       "    </tr>\n",
       "    <tr>\n",
       "      <th>2</th>\n",
       "      <td>2006</td>\n",
       "      <td>15968.933333</td>\n",
       "    </tr>\n",
       "    <tr>\n",
       "      <th>3</th>\n",
       "      <td>2007</td>\n",
       "      <td>15681.311111</td>\n",
       "    </tr>\n",
       "    <tr>\n",
       "      <th>4</th>\n",
       "      <td>2008</td>\n",
       "      <td>16373.422222</td>\n",
       "    </tr>\n",
       "    <tr>\n",
       "      <th>5</th>\n",
       "      <td>2009</td>\n",
       "      <td>16597.111111</td>\n",
       "    </tr>\n",
       "    <tr>\n",
       "      <th>6</th>\n",
       "      <td>2010</td>\n",
       "      <td>17477.022222</td>\n",
       "    </tr>\n",
       "    <tr>\n",
       "      <th>7</th>\n",
       "      <td>2011</td>\n",
       "      <td>18049.200000</td>\n",
       "    </tr>\n",
       "    <tr>\n",
       "      <th>8</th>\n",
       "      <td>2012</td>\n",
       "      <td>18703.711111</td>\n",
       "    </tr>\n",
       "    <tr>\n",
       "      <th>9</th>\n",
       "      <td>2013</td>\n",
       "      <td>19390.466667</td>\n",
       "    </tr>\n",
       "  </tbody>\n",
       "</table>\n",
       "</div>"
      ],
      "text/plain": [
       "   Year         Value\n",
       "0  2004  14733.466667\n",
       "1  2005  15361.266667\n",
       "2  2006  15968.933333\n",
       "3  2007  15681.311111\n",
       "4  2008  16373.422222\n",
       "5  2009  16597.111111\n",
       "6  2010  17477.022222\n",
       "7  2011  18049.200000\n",
       "8  2012  18703.711111\n",
       "9  2013  19390.466667"
      ]
     },
     "execution_count": 96,
     "metadata": {},
     "output_type": "execute_result"
    }
   ],
   "source": [
    "avg_production = foodproduc_df.groupby('Year')['Value'].mean().reset_index()\n",
    "avg_production"
   ]
  },
  {
   "cell_type": "code",
   "execution_count": 133,
   "metadata": {},
   "outputs": [
    {
     "data": {
      "image/png": "[encoded data removed]",
      "text/plain": [
       "<Figure size 720x432 with 1 Axes>"
      ]
     },
     "metadata": {},
     "output_type": "display_data"
    }
   ],
   "source": [
    "# Set the size of the plot\n",
    "plt.figure(figsize=(10, 6))\n",
    "\n",
    "# Create a box plot\n",
    "sns.boxplot(x='Value', data=avg_production)\n",
    "\n",
    "# Add quartile and interquartile range annotations\n",
    "Q1 = avg_production['Value'].quantile(0.25)\n",
    "Q3 = avg_production['Value'].quantile(0.75)\n",
    "IQR = Q3 - Q1\n",
    "\n",
    "plt.axvline(Q1, color='gray', linestyle='--', label='Q1')\n",
    "plt.axvline(Q3, color='gray', linestyle='--', label='Q3')\n",
    "plt.axvline(Q1 - 1.5 * IQR, color='red', linestyle='--', label='Lower Bound')\n",
    "plt.axvline(Q3 + 1.5 * IQR, color='red', linestyle='--', label='Upper Bound')\n",
    "\n",
    "# Add outlier annotations\n",
    "outliers = avg_production[(avg_production['Value'] > Q3 + 1.5 * IQR) | (avg_production['Value'] < Q1 - 1.5 * IQR)]\n",
    "\n",
    "# Add labels and title\n",
    "plt.title('Boxplot of Value by Year with Quartiles and Outliers')\n",
    "plt.xlabel('Value')\n",
    "plt.ylabel('Country')\n",
    "plt.legend()\n",
    "plt.show()"
   ]
  },
  {
   "cell_type": "markdown",
   "metadata": {},
   "source": [
    "### 2. Calculating the average of food production using Country Column"
   ]
  },
  {
   "cell_type": "code",
   "execution_count": 99,
   "metadata": {},
   "outputs": [
    {
     "data": {
      "text/html": [
       "<div>\n",
       "<style scoped>\n",
       "    .dataframe tbody tr th:only-of-type {\n",
       "        vertical-align: middle;\n",
       "    }\n",
       "\n",
       "    .dataframe tbody tr th {\n",
       "        vertical-align: top;\n",
       "    }\n",
       "\n",
       "    .dataframe thead th {\n",
       "        text-align: right;\n",
       "    }\n",
       "</style>\n",
       "<table border=\"1\" class=\"dataframe\">\n",
       "  <thead>\n",
       "    <tr style=\"text-align: right;\">\n",
       "      <th></th>\n",
       "      <th>Country</th>\n",
       "      <th>Value</th>\n",
       "    </tr>\n",
       "  </thead>\n",
       "  <tbody>\n",
       "    <tr>\n",
       "      <th>0</th>\n",
       "      <td>Algeria</td>\n",
       "      <td>18865.0</td>\n",
       "    </tr>\n",
       "    <tr>\n",
       "      <th>1</th>\n",
       "      <td>Angola</td>\n",
       "      <td>19549.9</td>\n",
       "    </tr>\n",
       "    <tr>\n",
       "      <th>2</th>\n",
       "      <td>Benin</td>\n",
       "      <td>8807.2</td>\n",
       "    </tr>\n",
       "    <tr>\n",
       "      <th>3</th>\n",
       "      <td>Botswana</td>\n",
       "      <td>480.8</td>\n",
       "    </tr>\n",
       "    <tr>\n",
       "      <th>4</th>\n",
       "      <td>Burkina Faso</td>\n",
       "      <td>10012.9</td>\n",
       "    </tr>\n",
       "  </tbody>\n",
       "</table>\n",
       "</div>"
      ],
      "text/plain": [
       "        Country    Value\n",
       "0       Algeria  18865.0\n",
       "1        Angola  19549.9\n",
       "2         Benin   8807.2\n",
       "3      Botswana    480.8\n",
       "4  Burkina Faso  10012.9"
      ]
     },
     "execution_count": 99,
     "metadata": {},
     "output_type": "execute_result"
    }
   ],
   "source": [
    "avg_prod_country = foodproduc_df.groupby('Country')['Value'].mean().reset_index()\n",
    "avg_prod_country.head()"
   ]
  },
  {
   "cell_type": "markdown",
   "metadata": {},
   "source": [
    " * ### `Boxplot for the Average of food production using country column`"
   ]
  },
  {
   "cell_type": "code",
   "execution_count": 109,
   "metadata": {},
   "outputs": [
    {
     "data": {
      "image/png": "[encoded data removed]",
      "text/plain": [
       "<Figure size 1008x576 with 1 Axes>"
      ]
     },
     "metadata": {},
     "output_type": "display_data"
    }
   ],
   "source": [
    "# Set the size of the plot\n",
    "plt.figure(figsize=(14, 8))\n",
    "\n",
    "# Create a box plot\n",
    "sns.boxplot(x='Value', data=avg_prod_country, color='green')\n",
    "\n",
    "# Add quartile and interquartile range annotations\n",
    "Q1 = avg_prod_country['Value'].quantile(0.25)\n",
    "Q3 = avg_prod_country['Value'].quantile(0.75)\n",
    "IQR = Q3 - Q1\n",
    "\n",
    "plt.axvline(Q1, color='gray', linestyle='--', label='Q1')\n",
    "plt.axvline(Q3, color='gray', linestyle='--', label='Q3')\n",
    "plt.axvline(Q1 - 1.5 * IQR, color='red', linestyle='--', label='Lower Bound')\n",
    "plt.axvline(Q3 + 1.5 * IQR, color='red', linestyle='--', label='Upper Bound')\n",
    "\n",
    "# Add outlier annotations\n",
    "outliers = avg_prod_country[(avg_prod_country['Value'] > Q3 + 1.5 * IQR) | (avg_prod_country['Value'] < Q1 - 1.5 * IQR)]\n",
    "\n",
    "arrow_colors = ['red', 'blue', 'green', 'purple']\n",
    "\n",
    "for i, (country, value) in enumerate(outliers[['Country', 'Value']].values):\n",
    "    arrow_color = arrow_colors[i % len(arrow_colors)]  # Cycle through colors\n",
    "    plt.annotate(\n",
    "        country, \n",
    "        xy=(value, 0), \n",
    "        xytext=(value, 0.1), \n",
    "        arrowprops={'arrowstyle': '->', 'lw': 2.5, 'color': arrow_color}\n",
    "    )\n",
    "\n",
    "# Add labels and title\n",
    "plt.title('Boxplot of Value by Country with Quartiles and Outliers')\n",
    "plt.xlabel('Value')\n",
    "plt.ylabel('Country')\n",
    "plt.legend()\n",
    "plt.show()"
   ]
  },
  {
   "cell_type": "markdown",
   "metadata": {},
   "source": [
    "### 3. Calculating the Median of food production using Country Column"
   ]
  },
  {
   "cell_type": "code",
   "execution_count": 112,
   "metadata": {},
   "outputs": [
    {
     "data": {
      "text/html": [
       "<div>\n",
       "<style scoped>\n",
       "    .dataframe tbody tr th:only-of-type {\n",
       "        vertical-align: middle;\n",
       "    }\n",
       "\n",
       "    .dataframe tbody tr th {\n",
       "        vertical-align: top;\n",
       "    }\n",
       "\n",
       "    .dataframe thead th {\n",
       "        text-align: right;\n",
       "    }\n",
       "</style>\n",
       "<table border=\"1\" class=\"dataframe\">\n",
       "  <thead>\n",
       "    <tr style=\"text-align: right;\">\n",
       "      <th></th>\n",
       "      <th>Country</th>\n",
       "      <th>Value</th>\n",
       "    </tr>\n",
       "  </thead>\n",
       "  <tbody>\n",
       "    <tr>\n",
       "      <th>0</th>\n",
       "      <td>Algeria</td>\n",
       "      <td>18118.5</td>\n",
       "    </tr>\n",
       "    <tr>\n",
       "      <th>1</th>\n",
       "      <td>Angola</td>\n",
       "      <td>18896.5</td>\n",
       "    </tr>\n",
       "    <tr>\n",
       "      <th>2</th>\n",
       "      <td>Benin</td>\n",
       "      <td>8961.5</td>\n",
       "    </tr>\n",
       "    <tr>\n",
       "      <th>3</th>\n",
       "      <td>Botswana</td>\n",
       "      <td>477.0</td>\n",
       "    </tr>\n",
       "    <tr>\n",
       "      <th>4</th>\n",
       "      <td>Burkina Faso</td>\n",
       "      <td>9780.5</td>\n",
       "    </tr>\n",
       "  </tbody>\n",
       "</table>\n",
       "</div>"
      ],
      "text/plain": [
       "        Country    Value\n",
       "0       Algeria  18118.5\n",
       "1        Angola  18896.5\n",
       "2         Benin   8961.5\n",
       "3      Botswana    477.0\n",
       "4  Burkina Faso   9780.5"
      ]
     },
     "execution_count": 112,
     "metadata": {},
     "output_type": "execute_result"
    }
   ],
   "source": [
    "median_prod_country = foodproduc_df.groupby('Country')['Value'].median().reset_index()\n",
    "median_prod_country.head()"
   ]
  },
  {
   "cell_type": "code",
   "execution_count": 113,
   "metadata": {},
   "outputs": [
    {
     "data": {
      "image/png": "[encoded data removed]",
      "text/plain": [
       "<Figure size 1008x576 with 1 Axes>"
      ]
     },
     "metadata": {},
     "output_type": "display_data"
    }
   ],
   "source": [
    "# Set the size of the plot\n",
    "plt.figure(figsize=(14, 8))\n",
    "\n",
    "# Create a box plot\n",
    "sns.boxplot(x='Value', data=median_prod_country, color='cyan')\n",
    "\n",
    "# Add quartile and interquartile range annotations\n",
    "Q1 = median_prod_country['Value'].quantile(0.25)\n",
    "Q3 = median_prod_country['Value'].quantile(0.75)\n",
    "IQR = Q3 - Q1\n",
    "\n",
    "plt.axvline(Q1, color='gray', linestyle='--', label='Q1')\n",
    "plt.axvline(Q3, color='gray', linestyle='--', label='Q3')\n",
    "plt.axvline(Q1 - 1.5 * IQR, color='red', linestyle='--', label='Lower Bound')\n",
    "plt.axvline(Q3 + 1.5 * IQR, color='red', linestyle='--', label='Upper Bound')\n",
    "\n",
    "# Add outlier annotations\n",
    "outliers = median_prod_country[(median_prod_country['Value'] > Q3 + 1.5 * IQR) | (median_prod_country['Value'] < Q1 - 1.5 * IQR)]\n",
    "\n",
    "arrow_colors = ['red', 'blue', 'green', 'purple']\n",
    "\n",
    "for i, (country, value) in enumerate(outliers[['Country', 'Value']].values):\n",
    "    arrow_color = arrow_colors[i % len(arrow_colors)]  # Cycle through colors\n",
    "    plt.annotate(\n",
    "        country, \n",
    "        xy=(value, 0), \n",
    "        xytext=(value, 0.1), \n",
    "        arrowprops={'arrowstyle': '->', 'lw': 2.5, 'color': arrow_color}\n",
    "    )\n",
    "\n",
    "# Add labels and title\n",
    "plt.title('Boxplot of Value by Country with Quartiles and Outliers')\n",
    "plt.xlabel('Value')\n",
    "plt.ylabel('Country')\n",
    "plt.legend()\n",
    "plt.show()"
   ]
  },
  {
   "cell_type": "markdown",
   "metadata": {},
   "source": [
    "\n",
    "**Insights Drawn from the average and Median BoxPlots**\n",
    "\n",
    "1. *Egypt's Profile:*\n",
    "   - The alignment between median and mean values in Egypt places it at the statistical heart of the dataset.\n",
    "\n",
    "2. *Nigeria's Distinctiveness:*\n",
    "   - Nigeria emerges as a standout with notably higher values, positioned as an outlier beyond the typical range depicted by the boxplot whiskers.\n",
    "   - This outlier status signals a considerable deviation from the majority of countries in the dataset.\n",
    "\n",
    "3. \n",
    "   - Beyond individual country observations, the boxplot serves as a visual compass, revealing the distribution's breadth, central tendencies, and instances of deviation.\n",
    "   - Egypt and South Africa represent the norm, while Nigeria's exceptional position adds nuance to the dataset.\n",
    "   - The boxplot's elongated upper whisker signals heightened variability in higher 'Value' variable values among the 45 countries.\n",
    "   - This distribution asymmetry suggests potential outliers or a skew towards elevated values in the dataset."
   ]
  },
  {
   "cell_type": "markdown",
   "metadata": {},
   "source": [
    "### `Deliverable 3: A comparison between average food consumption and production for each year.<br>`"
   ]
  },
  {
   "cell_type": "code",
   "execution_count": 95,
   "metadata": {},
   "outputs": [
    {
     "data": {
      "image/png": "[encoded data removed]",
      "text/plain": [
       "<Figure size 720x432 with 1 Axes>"
      ]
     },
     "metadata": {},
     "output_type": "display_data"
    }
   ],
   "source": [
    "\n",
    "# Calculate average production and consumption for each year\n",
    "avg_production = foodproduc_df.groupby('Year')['Value'].mean().reset_index()\n",
    "avg_supply= food_supply_df.groupby('Year')['Value'].mean().reset_index()\n",
    "# Convert 'Year' to string in both DataFrames\n",
    "avg_production['Year'] = avg_production['Year'].astype(str)\n",
    "avg_supply['Year'] = avg_supply['Year'].astype(str)\n",
    "\n",
    "# Merge the two DataFrames on 'Year'\n",
    "merged_df = pd.merge(avg_production, avg_supply, on='Year', suffixes=('_Production', '_Consumption'))\n",
    "\n",
    "# Plotting\n",
    "plt.figure(figsize=(10, 6))\n",
    "\n",
    "bar_width = 0.35\n",
    "index = np.arange(len(merged_df['Year']))\n",
    "\n",
    "plt.bar(index, merged_df['Value_Production'], bar_width, label='Production')\n",
    "plt.bar(index + bar_width, merged_df['Value_Consumption'], bar_width, label='Consumption')\n",
    "\n",
    "plt.xlabel('Year')\n",
    "plt.ylabel('Average Value')\n",
    "plt.title('Comparison of Average Food Production and Consumption by Year')\n",
    "plt.xticks(index + bar_width / 2, merged_df['Year'])\n",
    "plt.legend()\n",
    "\n",
    "plt.show()"
   ]
  },
  {
   "cell_type": "markdown",
   "metadata": {},
   "source": [
    "#### `Observation:`\n",
    "\n",
    "\n",
    "1. **Production and Consumption Trends:** Both food production and consumption have generally increased over the years (2004 to 2013), indicating a potential growth in the agricultural and food sectors.\n",
    "\n",
    "2. **Consistent Discrepancy:** Throughout the observed period, the average production values are consistently higher than the average consumption values. This suggests that, on average, the countries in consideration tend to produce more food than they consume, which could lead to surplus or export opportunities.\n",
    "\n",
    "3. **Steady Production Growth:** The average production values show a steady upward trend, indicating an overall improvement in food production capabilities. This could be attributed to advancements in agricultural practices, technology, or other factors contributing to increased productivity.\n",
    "\n",
    "4. **Slight Fluctuations in Consumption:** While production has been on a consistent rise, average consumption values show some fluctuations, suggesting that consumption patterns might be influenced by various factors such as population changes, economic conditions, or dietary trends.\n",
    "\n",
    "5. **Potential for Export:** The consistent surplus in production compared to consumption suggests a potential for these countries to become food exporters, contributing to the global food market and potentially improving their economic standing.\n",
    "\n",
    "6. **Yearly Patterns:** There seems to be a pattern of increased production and consumption from 2004 to 2013, indicating a positive correlation between the two variables. Understanding the reasons behind these trends can provide insights into the dynamics of the food market in these countries.\n",
    "\n"
   ]
  },
  {
   "cell_type": "markdown",
   "metadata": {},
   "source": [
    "# `CONCLUSION`\n",
    "\n",
    "\n",
    "1. **Disparities in Production:** There are significant disparities in food production across African countries. Some countries, such as Egypt, Morocco, and Tunisia, consistently lead in food production, while others, like Djibouti, Sao Tome and Principe, and Cabo Verde, face challenges in producing sufficient food.\n",
    "\n",
    "2. **Regional Variances:** The analysis reveals regional variations in agricultural performance. Factors such as climate conditions, agricultural practices, government policies, and technological advancements contribute to these differences.\n",
    "\n",
    "3. **Top and Bottom Performers:** Egypt, Morocco, and Tunisia consistently emerge as top performers in food production, while the Central African Republic, Zambia, and Madagascar face challenges in maintaining an adequate food supply.\n",
    "\n",
    "4. **Production Trends Over Time:** Examining production trends over the years provides insights into the changing dynamics of food production. Understanding these trends can be crucial for making informed decisions related to agriculture, food security, and policy planning.\n",
    "\n",
    "5. **Crops and Items:** Analyzing specific crops or food items, such as wheat, oats, and rice, allows for a more detailed understanding of production patterns. Identifying top producers for specific items helps in targeting interventions and support where needed.\n",
    "\n",
    "6. **Consumption and Production Discrepancies:** Comparing food production with consumption highlights discrepancies that may lead to food shortages or surpluses. Addressing these discrepancies is essential for achieving food security.\n",
    "\n",
    "7. **Outliers and Anomalies:** Identifying outliers in production data helps pinpoint countries or years with exceptional performance, which can be further investigated to understand the contributing factors.\n",
    "\n",
    "8. **Interactive Tools for Exploration:** The use of interactive tools, such as GeoRegionValueplot and box plots, enhances the exploration of data and facilitates a deeper understanding of geographical and statistical aspects of food production.\n",
    "\n"
   ]
  },
  {
   "cell_type": "markdown",
   "metadata": {},
   "source": [
    "# `RECOMMENDATION`\n",
    "\n",
    "1. **Investment in Agricultural Infrastructure:** Governments and stakeholders should prioritize investments in agricultural infrastructure, including irrigation systems, storage facilities, and transportation networks. This will help improve the efficiency of the agricultural supply chain and reduce post-harvest losses.\n",
    "\n",
    "2. **Technology Adoption:** Encourage the adoption of modern agricultural technologies, including precision farming, crop monitoring systems, and efficient irrigation methods. This can enhance productivity, optimize resource use, and mitigate the impact of climate-related challenges.\n",
    "\n",
    "3. **Diversification of Crops:** Promote the diversification of crops to ensure a varied and balanced diet. Supporting farmers in cultivating a diverse range of crops can enhance food security and resilience to changing environmental conditions.\n",
    "\n",
    "4. **Capacity Building:** Implement programs for training and capacity building among farmers. Providing knowledge on sustainable farming practices, pest control, and soil management can contribute to increased yields and improved agricultural practices.\n",
    "\n",
    "5. **Government Policies for Agriculture:** Formulate and implement policies that support sustainable agricultural development. This includes providing subsidies for essential inputs, creating favorable trade policies, and ensuring access to credit for smallholder farmers.\n",
    "\n",
    "6. **Research and Development:** Support research and development in agriculture to develop new crop varieties that are more resilient to climate change, diseases, and pests. This can contribute to increased yields and improved food production.\n",
    "\n",
    "7. **Monitoring and Early Warning Systems:** Establish monitoring systems and early warning mechanisms to anticipate and respond to potential food shortages or surpluses. This can involve the use of technology, data analytics, and collaboration with international organizations.\n",
    "\n",
    "8. **Promotion of Sustainable Practices:** Encourage and incentivize sustainable agricultural practices, such as organic farming, agroforestry, and conservation agriculture. These practices contribute to environmental sustainability and long-term food security.\n",
    "\n",
    "9. **Collaboration and Knowledge Sharing:** Facilitate collaboration among African countries for knowledge sharing and best practices in agriculture. Regional cooperation can lead to the exchange of expertise, technologies, and resources for mutual benefit.\n",
    "\n",
    "10. **Education and Awareness:** Promote education and awareness programs on sustainable agriculture, nutrition, and food security. Informed consumers and farmers are better equipped to make decisions that contribute to a more sustainable and resilient food system.\n",
    "\n"
   ]
  },
  {
   "cell_type": "markdown",
   "metadata": {},
   "source": [
    "# QUESTIONS FROM THE QUIZ"
   ]
  },
  {
   "cell_type": "markdown",
   "metadata": {},
   "source": [
    "Question 1 - Which three countries had the lowest food supply between 2004 and 2006 respectively(inclusive)?\n",
    "\n"
   ]
  },
  {
   "cell_type": "code",
   "execution_count": 126,
   "metadata": {},
   "outputs": [
    {
     "name": "stdout",
     "output_type": "stream",
     "text": [
      "Question 1\n",
      "                     Country  Value\n",
      "43                    Zambia   5577\n",
      "13                  Ethiopia   5827\n",
      "7   Central African Republic   6044\n"
     ]
    }
   ],
   "source": [
    "print('Question 1')\n",
    "# Filter for the years 2004 to 2006\n",
    "filtered_df = food_supply_df[(food_supply_df['Year'] >= 2004) & (food_supply_df['Year'] <= 2006)]\n",
    "\n",
    "# Group by country and calculate total food supply\n",
    "total_food_supply = filtered_df.groupby('Country')['Value'].sum().reset_index()\n",
    "\n",
    "# Sort by total food supply in ascending order\n",
    "sorted_df = total_food_supply.sort_values(by='Value')\n",
    "\n",
    "# Get the three countries with the lowest food supply\n",
    "lowest_food_supply_countries = sorted_df.head(3)\n",
    "\n",
    "print(lowest_food_supply_countries[['Country', 'Value']])\n"
   ]
  },
  {
   "cell_type": "markdown",
   "metadata": {},
   "source": [
    "Question 4 - Which country produced the highest amount of oats in 2010?"
   ]
  },
  {
   "cell_type": "code",
   "execution_count": 125,
   "metadata": {},
   "outputs": [
    {
     "name": "stdout",
     "output_type": "stream",
     "text": [
      "Question 4\n",
      "Country with the highest oats production in 2010:\n",
      "Country    Algeria\n",
      "Value           88\n",
      "Name: 46, dtype: object\n"
     ]
    }
   ],
   "source": [
    "print('Question 4')\n",
    "\n",
    "# Filter the data for oats and the year 2010\n",
    "oats_2010 = food_production[(food_production['Item'] == 'Oats') & (food_production['Year'] == '2010-01-01')]\n",
    "\n",
    "# Find the country with the highest production\n",
    "if not oats_2010.empty:\n",
    "    highest_oats_production_country = oats_2010.loc[oats_2010['Value'].idxmax()]\n",
    "    print(\"Country with the highest oats production in 2010:\")\n",
    "    print(highest_oats_production_country[['Country', 'Value']])\n",
    "else:\n",
    "    print(\"No data available for oats production in 2010.\")\n"
   ]
  },
  {
   "cell_type": "markdown",
   "metadata": {},
   "source": [
    "Question 5 - What three countries have produced the highest total quantities of rice from 2004 to 2013?"
   ]
  },
  {
   "cell_type": "code",
   "execution_count": 123,
   "metadata": {},
   "outputs": [
    {
     "name": "stdout",
     "output_type": "stream",
     "text": [
      "Question 5\n",
      "Three countries with the highest total quantities of rice production (2004-2013):\n",
      "       Country  Value\n",
      "9        Egypt  40370\n",
      "26     Nigeria  26964\n",
      "18  Madagascar  26118\n"
     ]
    }
   ],
   "source": [
    "print('Question 5')\n",
    "\n",
    "# Filtering data for rice items\n",
    "rice_production = food_production[food_production['Item'] == 'Rice (Milled Equivalent)']\n",
    "\n",
    "# Group the rice production data by country and sum the values\n",
    "total_rice_production_by_country = rice_production.groupby('Country')['Value'].sum().reset_index()\n",
    "\n",
    "# Sort the data in descending order to find the top three countries\n",
    "top_rice_countries = total_rice_production_by_country.sort_values(by='Value', ascending=False).head(3)\n",
    "\n",
    "print(\"Three countries with the highest total quantities of rice production (2004-2013):\")\n",
    "print(top_rice_countries[['Country', 'Value']])\n",
    "\n"
   ]
  }
 ],
 "metadata": {
  "kernelspec": {
   "display_name": "Python (learn-env)",
   "language": "python",
   "name": "learn-env"
  },
  "language_info": {
   "codemirror_mode": {
    "name": "ipython",
    "version": 3
   },
   "file_extension": ".py",
   "mimetype": "text/x-python",
   "name": "python",
   "nbconvert_exporter": "python",
   "pygments_lexer": "ipython3",
   "version": "3.8.5"
  }
 },
 "nbformat": 4,
 "nbformat_minor": 2
}
